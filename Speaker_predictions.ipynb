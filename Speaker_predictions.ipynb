{
 "cells": [
  {
   "cell_type": "code",
   "execution_count": 1,
   "metadata": {
    "scrolled": true
   },
   "outputs": [
    {
     "name": "stderr",
     "output_type": "stream",
     "text": [
      "c:\\users\\aakaas~1\\docume~1\\nyu\\projects\\speech~1\\env\\lib\\site-packages\\h5py\\__init__.py:36: FutureWarning: Conversion of the second argument of issubdtype from `float` to `np.floating` is deprecated. In future, it will be treated as `np.float64 == np.dtype(float).type`.\n",
      "  from ._conv import register_converters as _register_converters\n"
     ]
    },
    {
     "data": {
      "text/html": [
       "<script>requirejs.config({paths: { 'plotly': ['https://cdn.plot.ly/plotly-latest.min']},});if(!window.Plotly) {{require(['plotly'],function(plotly) {window.Plotly=plotly;});}}</script>"
      ],
      "text/vnd.plotly.v1+html": [
       "<script>requirejs.config({paths: { 'plotly': ['https://cdn.plot.ly/plotly-latest.min']},});if(!window.Plotly) {{require(['plotly'],function(plotly) {window.Plotly=plotly;});}}</script>"
      ]
     },
     "metadata": {},
     "output_type": "display_data"
    }
   ],
   "source": [
    "import pickle\n",
    "import tensorflow as tf\n",
    "import os\n",
    "import numpy as np\n",
    "from src.utils import DatasetUtils\n",
    "from sklearn.metrics import confusion_matrix\n",
    "import matplotlib.pyplot as plt\n",
    "import plotly.offline as ply\n",
    "import plotly.graph_objs as go\n",
    "keras = tf.keras\n",
    "ply.init_notebook_mode(connected=True)"
   ]
  },
  {
   "cell_type": "code",
   "execution_count": 2,
   "metadata": {},
   "outputs": [],
   "source": [
    "model1 = keras.models.load_model('./models/noisy/convnet.h5')"
   ]
  },
  {
   "cell_type": "code",
   "execution_count": 3,
   "metadata": {},
   "outputs": [],
   "source": [
    "model2 = keras.models.load_model('./models/noisy/resnet.h5')"
   ]
  },
  {
   "cell_type": "code",
   "execution_count": 4,
   "metadata": {},
   "outputs": [],
   "source": [
    "model3 = keras.models.load_model('./models/noisy/residualresnet.h5')"
   ]
  },
  {
   "cell_type": "code",
   "execution_count": 5,
   "metadata": {},
   "outputs": [],
   "source": [
    "utils = DatasetUtils()"
   ]
  },
  {
   "cell_type": "code",
   "execution_count": 6,
   "metadata": {},
   "outputs": [],
   "source": [
    "classes = utils.get_label_encoder().classes_"
   ]
  },
  {
   "cell_type": "code",
   "execution_count": 7,
   "metadata": {},
   "outputs": [],
   "source": [
    "test_data, test_labels = utils.get_dataset_and_encoded_labels('test_data.npy', 'test_labels.npy')"
   ]
  },
  {
   "cell_type": "code",
   "execution_count": 8,
   "metadata": {},
   "outputs": [],
   "source": [
    "all_predictions1 = model1.predict(test_data)\n",
    "all_predictions2 = model2.predict(test_data)\n",
    "all_predictions3 = model3.predict(test_data)"
   ]
  },
  {
   "cell_type": "code",
   "execution_count": 9,
   "metadata": {},
   "outputs": [],
   "source": [
    "test_labels = classes[np.argmax(test_labels, axis=-1)]"
   ]
  },
  {
   "cell_type": "code",
   "execution_count": 10,
   "metadata": {},
   "outputs": [],
   "source": [
    "all_pred_labels1 = classes[np.argmax(all_predictions1, axis=-1)]\n",
    "all_pred_labels2 = classes[np.argmax(all_predictions2, axis=-1)]\n",
    "all_pred_labels3 = classes[np.argmax(all_predictions3, axis=-1)]"
   ]
  },
  {
   "cell_type": "code",
   "execution_count": 11,
   "metadata": {},
   "outputs": [],
   "source": [
    "cm1 = confusion_matrix(test_labels, all_pred_labels1, labels=classes)\n",
    "cm1 = cm1.astype('float') / cm1.sum(axis=1)[:, np.newaxis]\n",
    "cm2 = confusion_matrix(test_labels, all_pred_labels2, labels=classes)\n",
    "cm2 = cm2.astype('float') / cm2.sum(axis=1)[:, np.newaxis]\n",
    "cm3 = confusion_matrix(test_labels, all_pred_labels3, labels=classes)\n",
    "cm3 = cm3.astype('float') / cm3.sum(axis=1)[:, np.newaxis]"
   ]
  },
  {
   "cell_type": "code",
   "execution_count": 12,
   "metadata": {},
   "outputs": [],
   "source": [
    "per_class_accuracy1 = dict()\n",
    "for i, label in enumerate(classes):\n",
    "    per_class_accuracy1[label] = cm1[i, i] * 100\n",
    "per_class_accuracy2 = dict()\n",
    "for i, label in enumerate(classes):\n",
    "    per_class_accuracy2[label] = cm2[i, i] * 100\n",
    "per_class_accuracy3 = dict()\n",
    "for i, label in enumerate(classes):\n",
    "    per_class_accuracy3[label] = cm3[i, i] * 100"
   ]
  },
  {
   "cell_type": "code",
   "execution_count": 16,
   "metadata": {},
   "outputs": [],
   "source": [
    "sorted_per_class_accuracy1 = sorted(per_class_accuracy1.items(), key=lambda x: x[1], reverse=True)\n",
    "sorted_per_class_accuracy2 = sorted(per_class_accuracy2.items(), key=lambda x: x[1], reverse=True)\n",
    "sorted_per_class_accuracy3 = sorted(per_class_accuracy3.items(), key=lambda x: x[1], reverse=True)"
   ]
  },
  {
   "cell_type": "code",
   "execution_count": 29,
   "metadata": {},
   "outputs": [
    {
     "data": {
      "text/plain": [
       "[('unknown', 91.14219114219114),\n",
       " ('nine', 89.1891891891892),\n",
       " ('one', 86.69354838709677),\n",
       " ('left', 85.39325842696628),\n",
       " ('eight', 84.04669260700389),\n",
       " ('on', 83.33333333333334),\n",
       " ('five', 83.02583025830258),\n",
       " ('up', 82.72058823529412),\n",
       " ('zero', 82.39999999999999),\n",
       " ('seven', 82.00836820083683),\n",
       " ('four', 81.02766798418972),\n",
       " ('yes', 80.46875),\n",
       " ('right', 78.37837837837837),\n",
       " ('stop', 78.3132530120482),\n",
       " ('six', 77.04918032786885),\n",
       " ('down', 76.28458498023716),\n",
       " ('no', 74.60317460317461),\n",
       " ('three', 73.78277153558052),\n",
       " ('off', 73.66412213740458),\n",
       " ('two', 73.10606060606061),\n",
       " ('go', 69.32270916334662)]"
      ]
     },
     "execution_count": 29,
     "metadata": {},
     "output_type": "execute_result"
    }
   ],
   "source": [
    "sorted_per_class_accuracy3"
   ]
  },
  {
   "cell_type": "code",
   "execution_count": 13,
   "metadata": {},
   "outputs": [
    {
     "data": {
      "application/vnd.plotly.v1+json": {
       "data": [
        {
         "name": "ConvNet",
         "opacity": 0.8,
         "type": "histogram",
         "x": [
          77.86561264822134,
          79.37743190661479,
          84.87084870848709,
          81.42292490118577,
          68.12749003984064,
          83.52059925093633,
          89.96138996138995,
          77.38095238095238,
          81.29770992366412,
          91.05691056910568,
          79.83870967741935,
          81.08108108108108,
          82.00836820083683,
          78.27868852459017,
          87.14859437751004,
          60.67415730337079,
          73.86363636363636,
          95.74592074592074,
          82.35294117647058,
          82.8125,
          82.8
         ]
        },
        {
         "name": "DenseNet",
         "opacity": 0.8,
         "type": "histogram",
         "x": [
          71.14624505928853,
          79.37743190661479,
          86.34686346863468,
          82.6086956521739,
          57.76892430278885,
          85.76779026217228,
          91.5057915057915,
          69.84126984126983,
          77.48091603053436,
          89.83739837398373,
          83.87096774193549,
          81.46718146718148,
          88.70292887029288,
          80.32786885245902,
          85.14056224899599,
          51.68539325842697,
          67.04545454545455,
          96.38694638694638,
          82.35294117647058,
          85.15625,
          79.60000000000001
         ]
        },
        {
         "name": "Recurrent-DenseNet",
         "opacity": 0.8,
         "type": "histogram",
         "x": [
          76.28458498023716,
          84.04669260700389,
          83.02583025830258,
          81.02766798418972,
          69.32270916334662,
          85.39325842696628,
          89.1891891891892,
          74.60317460317461,
          73.66412213740458,
          83.33333333333334,
          86.69354838709677,
          78.37837837837837,
          82.00836820083683,
          77.04918032786885,
          78.3132530120482,
          73.78277153558052,
          73.10606060606061,
          91.14219114219114,
          82.72058823529412,
          80.46875,
          82.39999999999999
         ]
        }
       ],
       "layout": {}
      },
      "text/html": [
       "<div id=\"7bba9eb5-d03e-4f78-b917-9ccecf5fe5c3\" style=\"height: 525px; width: 100%;\" class=\"plotly-graph-div\"></div><script type=\"text/javascript\">require([\"plotly\"], function(Plotly) { window.PLOTLYENV=window.PLOTLYENV || {};window.PLOTLYENV.BASE_URL=\"https://plot.ly\";Plotly.newPlot(\"7bba9eb5-d03e-4f78-b917-9ccecf5fe5c3\", [{\"type\": \"histogram\", \"x\": [77.86561264822134, 79.37743190661479, 84.87084870848709, 81.42292490118577, 68.12749003984064, 83.52059925093633, 89.96138996138995, 77.38095238095238, 81.29770992366412, 91.05691056910568, 79.83870967741935, 81.08108108108108, 82.00836820083683, 78.27868852459017, 87.14859437751004, 60.67415730337079, 73.86363636363636, 95.74592074592074, 82.35294117647058, 82.8125, 82.8], \"name\": \"ConvNet\", \"opacity\": 0.8}, {\"type\": \"histogram\", \"x\": [71.14624505928853, 79.37743190661479, 86.34686346863468, 82.6086956521739, 57.76892430278885, 85.76779026217228, 91.5057915057915, 69.84126984126983, 77.48091603053436, 89.83739837398373, 83.87096774193549, 81.46718146718148, 88.70292887029288, 80.32786885245902, 85.14056224899599, 51.68539325842697, 67.04545454545455, 96.38694638694638, 82.35294117647058, 85.15625, 79.60000000000001], \"name\": \"DenseNet\", \"opacity\": 0.8}, {\"type\": \"histogram\", \"x\": [76.28458498023716, 84.04669260700389, 83.02583025830258, 81.02766798418972, 69.32270916334662, 85.39325842696628, 89.1891891891892, 74.60317460317461, 73.66412213740458, 83.33333333333334, 86.69354838709677, 78.37837837837837, 82.00836820083683, 77.04918032786885, 78.3132530120482, 73.78277153558052, 73.10606060606061, 91.14219114219114, 82.72058823529412, 80.46875, 82.39999999999999], \"name\": \"Recurrent-DenseNet\", \"opacity\": 0.8}], {}, {\"showLink\": true, \"linkText\": \"Export to plot.ly\"})});</script>"
      ],
      "text/vnd.plotly.v1+html": [
       "<div id=\"7bba9eb5-d03e-4f78-b917-9ccecf5fe5c3\" style=\"height: 525px; width: 100%;\" class=\"plotly-graph-div\"></div><script type=\"text/javascript\">require([\"plotly\"], function(Plotly) { window.PLOTLYENV=window.PLOTLYENV || {};window.PLOTLYENV.BASE_URL=\"https://plot.ly\";Plotly.newPlot(\"7bba9eb5-d03e-4f78-b917-9ccecf5fe5c3\", [{\"type\": \"histogram\", \"x\": [77.86561264822134, 79.37743190661479, 84.87084870848709, 81.42292490118577, 68.12749003984064, 83.52059925093633, 89.96138996138995, 77.38095238095238, 81.29770992366412, 91.05691056910568, 79.83870967741935, 81.08108108108108, 82.00836820083683, 78.27868852459017, 87.14859437751004, 60.67415730337079, 73.86363636363636, 95.74592074592074, 82.35294117647058, 82.8125, 82.8], \"name\": \"ConvNet\", \"opacity\": 0.8}, {\"type\": \"histogram\", \"x\": [71.14624505928853, 79.37743190661479, 86.34686346863468, 82.6086956521739, 57.76892430278885, 85.76779026217228, 91.5057915057915, 69.84126984126983, 77.48091603053436, 89.83739837398373, 83.87096774193549, 81.46718146718148, 88.70292887029288, 80.32786885245902, 85.14056224899599, 51.68539325842697, 67.04545454545455, 96.38694638694638, 82.35294117647058, 85.15625, 79.60000000000001], \"name\": \"DenseNet\", \"opacity\": 0.8}, {\"type\": \"histogram\", \"x\": [76.28458498023716, 84.04669260700389, 83.02583025830258, 81.02766798418972, 69.32270916334662, 85.39325842696628, 89.1891891891892, 74.60317460317461, 73.66412213740458, 83.33333333333334, 86.69354838709677, 78.37837837837837, 82.00836820083683, 77.04918032786885, 78.3132530120482, 73.78277153558052, 73.10606060606061, 91.14219114219114, 82.72058823529412, 80.46875, 82.39999999999999], \"name\": \"Recurrent-DenseNet\", \"opacity\": 0.8}], {}, {\"showLink\": true, \"linkText\": \"Export to plot.ly\"})});</script>"
      ]
     },
     "metadata": {},
     "output_type": "display_data"
    }
   ],
   "source": [
    "trace1 = go.Histogram(x=list(per_class_accuracy1.values()),\n",
    "                      name='ConvNet',\n",
    "                      opacity=0.8)\n",
    "trace2 = go.Histogram(x=list(per_class_accuracy2.values()),\n",
    "                      name='DenseNet',\n",
    "                      opacity=0.8)\n",
    "trace3 = go.Histogram(x=list(per_class_accuracy3.values()),\n",
    "                      name='Recurrent-DenseNet',\n",
    "                      opacity=0.8)\n",
    "data = [trace1, trace2, trace3]\n",
    "layout = go.Layout()\n",
    "ply.iplot(dict(data=data, layout=layout))"
   ]
  },
  {
   "cell_type": "code",
   "execution_count": 32,
   "metadata": {},
   "outputs": [],
   "source": [
    "sorted_per_class_acc = sorted(per_class_accuracy.items(), key=lambda x: x[1], reverse=True)"
   ]
  },
  {
   "cell_type": "markdown",
   "metadata": {},
   "source": [
    "speakers = os.listdir('./speaker_spectrograms/')\n",
    "speaker_pred = dict()\n",
    "for speaker in speakers:\n",
    "    spects = np.load('./speaker_spectrograms/' + speaker)\n",
    "    spects = spects.reshape(spects.shape+(1,))\n",
    "    pred = model.predict(spects)\n",
    "    pred = np.argmax(pred, axis=-1)\n",
    "    pred_labels = classes[pred]\n",
    "    speaker_pred[speaker.split('.')[0]] = pred_labels\n",
    "with open('./per_speaker_pred.pkl', 'wb') as handle:\n",
    "    pickle.dump(speaker_pred, handle, protocol=pickle.HIGHEST_PROTOCOL)"
   ]
  },
  {
   "cell_type": "code",
   "execution_count": 28,
   "metadata": {},
   "outputs": [],
   "source": [
    "speaker_pred = pickle.load(open('./per_speaker_pred.pkl', 'rb'))"
   ]
  },
  {
   "cell_type": "code",
   "execution_count": 29,
   "metadata": {},
   "outputs": [],
   "source": [
    "speaker_gt = pickle.load(open('./per_speaker_gt.pkl', 'rb'))"
   ]
  },
  {
   "cell_type": "code",
   "execution_count": 39,
   "metadata": {
    "scrolled": true
   },
   "outputs": [],
   "source": [
    "per_speaker = dict()\n",
    "for speaker in os.listdir('./speaker_spectrograms/'):\n",
    "    speaker = speaker.split('.')[0]\n",
    "    pred = np.array(speaker_pred[speaker])\n",
    "    gt = np.array(speaker_gt[speaker])\n",
    "    per_label = dict()\n",
    "    for label in np.unique(gt):\n",
    "        label_idx = np.where(gt == label)\n",
    "        acc = np.sum(np.core.defchararray.equal(pred[label_idx], gt[label_idx])) / len(label_idx[0])\n",
    "        per_label[label] = acc * 100\n",
    "    per_speaker[speaker] = per_label"
   ]
  },
  {
   "cell_type": "code",
   "execution_count": 57,
   "metadata": {},
   "outputs": [
    {
     "data": {
      "text/plain": [
       "{'down': 0.0, 'left': 100.0, 'off': 0.0, 'one': 0.0, 'unknown': 100.0}"
      ]
     },
     "execution_count": 57,
     "metadata": {},
     "output_type": "execute_result"
    }
   ],
   "source": [
    "list(per_speaker.values())[0]"
   ]
  },
  {
   "cell_type": "code",
   "execution_count": 31,
   "metadata": {},
   "outputs": [],
   "source": [
    "per_speaker_acc = dict()\n",
    "for speaker in os.listdir('./speaker_spectrograms/'):\n",
    "    speaker = speaker.split('.')[0]\n",
    "    pred = speaker_pred[speaker]\n",
    "    gt = speaker_gt[speaker]\n",
    "    acc = np.sum(np.core.defchararray.equal(pred, gt)) / len(pred)\n",
    "    per_speaker_acc[speaker] = acc * 100\n",
    "sorted_per_speaker_acc = sorted(per_speaker_acc.items(), key=lambda x: x[1], reverse=True)"
   ]
  },
  {
   "cell_type": "code",
   "execution_count": 91,
   "metadata": {},
   "outputs": [],
   "source": [
    "class_names = []\n",
    "class_accs = []\n",
    "per_class_accuracy_list = np.full((len(classes), len(per_speaker)), np.nan)\n",
    "for index, item in enumerate(sorted_per_class_acc):\n",
    "    class_names.append(item[0])\n",
    "    class_accs.append(item[1])\n",
    "    for i, speaker in enumerate(list(per_speaker.values())):\n",
    "        if item[0] in speaker.keys():\n",
    "            per_class_accuracy_list[index, i] = speaker[item[0]]"
   ]
  },
  {
   "cell_type": "code",
   "execution_count": 92,
   "metadata": {},
   "outputs": [
    {
     "name": "stderr",
     "output_type": "stream",
     "text": [
      "c:\\users\\aakaas~1\\docume~1\\nyu\\projects\\speech~1\\env\\lib\\site-packages\\numpy\\lib\\function_base.py:4291: RuntimeWarning: Invalid value encountered in percentile\n",
      "  interpolation=interpolation)\n",
      "c:\\users\\aakaas~1\\docume~1\\nyu\\projects\\speech~1\\env\\lib\\site-packages\\numpy\\core\\_methods.py:29: RuntimeWarning: invalid value encountered in reduce\n",
      "  return umr_minimum(a, axis, None, out, keepdims)\n",
      "c:\\users\\aakaas~1\\docume~1\\nyu\\projects\\speech~1\\env\\lib\\site-packages\\numpy\\core\\_methods.py:26: RuntimeWarning: invalid value encountered in reduce\n",
      "  return umr_maximum(a, axis, None, out, keepdims)\n",
      "c:\\users\\aakaas~1\\docume~1\\nyu\\projects\\speech~1\\env\\lib\\site-packages\\matplotlib\\cbook\\__init__.py:1872: RuntimeWarning: invalid value encountered in less_equal\n",
      "  wiskhi = np.compress(x <= hival, x)\n",
      "c:\\users\\aakaas~1\\docume~1\\nyu\\projects\\speech~1\\env\\lib\\site-packages\\matplotlib\\cbook\\__init__.py:1879: RuntimeWarning: invalid value encountered in greater_equal\n",
      "  wisklo = np.compress(x >= loval, x)\n",
      "c:\\users\\aakaas~1\\docume~1\\nyu\\projects\\speech~1\\env\\lib\\site-packages\\matplotlib\\cbook\\__init__.py:1887: RuntimeWarning: invalid value encountered in less\n",
      "  np.compress(x < stats['whislo'], x),\n",
      "c:\\users\\aakaas~1\\docume~1\\nyu\\projects\\speech~1\\env\\lib\\site-packages\\matplotlib\\cbook\\__init__.py:1888: RuntimeWarning: invalid value encountered in greater\n",
      "  np.compress(x > stats['whishi'], x)\n"
     ]
    },
    {
     "data": {
      "text/plain": [
       "{'whiskers': [<matplotlib.lines.Line2D at 0x1f149808240>,\n",
       "  <matplotlib.lines.Line2D at 0x1f1496be438>,\n",
       "  <matplotlib.lines.Line2D at 0x1f14980fe48>,\n",
       "  <matplotlib.lines.Line2D at 0x1f14980ff98>,\n",
       "  <matplotlib.lines.Line2D at 0x1f1498dfa58>,\n",
       "  <matplotlib.lines.Line2D at 0x1f1498dfba8>,\n",
       "  <matplotlib.lines.Line2D at 0x1f1498f4668>,\n",
       "  <matplotlib.lines.Line2D at 0x1f1498f47b8>,\n",
       "  <matplotlib.lines.Line2D at 0x1f149905278>,\n",
       "  <matplotlib.lines.Line2D at 0x1f1499053c8>,\n",
       "  <matplotlib.lines.Line2D at 0x1f14990ee48>,\n",
       "  <matplotlib.lines.Line2D at 0x1f14990ef98>,\n",
       "  <matplotlib.lines.Line2D at 0x1f14991ea58>,\n",
       "  <matplotlib.lines.Line2D at 0x1f14991eba8>,\n",
       "  <matplotlib.lines.Line2D at 0x1f149930668>,\n",
       "  <matplotlib.lines.Line2D at 0x1f1499307b8>,\n",
       "  <matplotlib.lines.Line2D at 0x1f149940278>,\n",
       "  <matplotlib.lines.Line2D at 0x1f1499403c8>,\n",
       "  <matplotlib.lines.Line2D at 0x1f14994be48>,\n",
       "  <matplotlib.lines.Line2D at 0x1f14994bf98>,\n",
       "  <matplotlib.lines.Line2D at 0x1f14995ba58>,\n",
       "  <matplotlib.lines.Line2D at 0x1f14995bba8>,\n",
       "  <matplotlib.lines.Line2D at 0x1f14996e668>,\n",
       "  <matplotlib.lines.Line2D at 0x1f14996e7b8>,\n",
       "  <matplotlib.lines.Line2D at 0x1f14997f278>,\n",
       "  <matplotlib.lines.Line2D at 0x1f14997f3c8>,\n",
       "  <matplotlib.lines.Line2D at 0x1f149987e48>,\n",
       "  <matplotlib.lines.Line2D at 0x1f149987f98>,\n",
       "  <matplotlib.lines.Line2D at 0x1f1496b1630>,\n",
       "  <matplotlib.lines.Line2D at 0x1f1496b1978>,\n",
       "  <matplotlib.lines.Line2D at 0x1f1499a5278>,\n",
       "  <matplotlib.lines.Line2D at 0x1f1499a53c8>,\n",
       "  <matplotlib.lines.Line2D at 0x1f1499aee48>,\n",
       "  <matplotlib.lines.Line2D at 0x1f1499aef98>,\n",
       "  <matplotlib.lines.Line2D at 0x1f1499c29e8>,\n",
       "  <matplotlib.lines.Line2D at 0x1f1499c2b38>,\n",
       "  <matplotlib.lines.Line2D at 0x1f1499d34a8>,\n",
       "  <matplotlib.lines.Line2D at 0x1f1499d35f8>,\n",
       "  <matplotlib.lines.Line2D at 0x1f1499dcf28>,\n",
       "  <matplotlib.lines.Line2D at 0x1f1499e60b8>,\n",
       "  <matplotlib.lines.Line2D at 0x1f1499ee9e8>,\n",
       "  <matplotlib.lines.Line2D at 0x1f1499eeb38>],\n",
       " 'caps': [<matplotlib.lines.Line2D at 0x1f1498087f0>,\n",
       "  <matplotlib.lines.Line2D at 0x1f149808c18>,\n",
       "  <matplotlib.lines.Line2D at 0x1f1498d9400>,\n",
       "  <matplotlib.lines.Line2D at 0x1f1498d9828>,\n",
       "  <matplotlib.lines.Line2D at 0x1f1498dffd0>,\n",
       "  <matplotlib.lines.Line2D at 0x1f1498e9438>,\n",
       "  <matplotlib.lines.Line2D at 0x1f1498f4be0>,\n",
       "  <matplotlib.lines.Line2D at 0x1f1498fc048>,\n",
       "  <matplotlib.lines.Line2D at 0x1f1499057f0>,\n",
       "  <matplotlib.lines.Line2D at 0x1f149905c18>,\n",
       "  <matplotlib.lines.Line2D at 0x1f149916400>,\n",
       "  <matplotlib.lines.Line2D at 0x1f149916828>,\n",
       "  <matplotlib.lines.Line2D at 0x1f14991efd0>,\n",
       "  <matplotlib.lines.Line2D at 0x1f149928438>,\n",
       "  <matplotlib.lines.Line2D at 0x1f149930be0>,\n",
       "  <matplotlib.lines.Line2D at 0x1f149939048>,\n",
       "  <matplotlib.lines.Line2D at 0x1f1499407f0>,\n",
       "  <matplotlib.lines.Line2D at 0x1f149940c18>,\n",
       "  <matplotlib.lines.Line2D at 0x1f149953400>,\n",
       "  <matplotlib.lines.Line2D at 0x1f149953828>,\n",
       "  <matplotlib.lines.Line2D at 0x1f14995bfd0>,\n",
       "  <matplotlib.lines.Line2D at 0x1f149963438>,\n",
       "  <matplotlib.lines.Line2D at 0x1f14996ebe0>,\n",
       "  <matplotlib.lines.Line2D at 0x1f149976048>,\n",
       "  <matplotlib.lines.Line2D at 0x1f14997f7f0>,\n",
       "  <matplotlib.lines.Line2D at 0x1f14997fc18>,\n",
       "  <matplotlib.lines.Line2D at 0x1f149990400>,\n",
       "  <matplotlib.lines.Line2D at 0x1f149990828>,\n",
       "  <matplotlib.lines.Line2D at 0x1f1496b1be0>,\n",
       "  <matplotlib.lines.Line2D at 0x1f14999f048>,\n",
       "  <matplotlib.lines.Line2D at 0x1f1499a57f0>,\n",
       "  <matplotlib.lines.Line2D at 0x1f1499a5c18>,\n",
       "  <matplotlib.lines.Line2D at 0x1f1499b8400>,\n",
       "  <matplotlib.lines.Line2D at 0x1f1499b8828>,\n",
       "  <matplotlib.lines.Line2D at 0x1f1499c2f28>,\n",
       "  <matplotlib.lines.Line2D at 0x1f1499c9358>,\n",
       "  <matplotlib.lines.Line2D at 0x1f1499d39e8>,\n",
       "  <matplotlib.lines.Line2D at 0x1f1499d3dd8>,\n",
       "  <matplotlib.lines.Line2D at 0x1f1499e64a8>,\n",
       "  <matplotlib.lines.Line2D at 0x1f1499e6898>,\n",
       "  <matplotlib.lines.Line2D at 0x1f1499eef28>,\n",
       "  <matplotlib.lines.Line2D at 0x1f1499f8358>],\n",
       " 'boxes': [<matplotlib.patches.PathPatch at 0x1f149805f98>,\n",
       "  <matplotlib.patches.PathPatch at 0x1f14980fbe0>,\n",
       "  <matplotlib.patches.PathPatch at 0x1f1498df7f0>,\n",
       "  <matplotlib.patches.PathPatch at 0x1f1498f4400>,\n",
       "  <matplotlib.patches.PathPatch at 0x1f1498fcfd0>,\n",
       "  <matplotlib.patches.PathPatch at 0x1f14990ebe0>,\n",
       "  <matplotlib.patches.PathPatch at 0x1f14991e7f0>,\n",
       "  <matplotlib.patches.PathPatch at 0x1f149930400>,\n",
       "  <matplotlib.patches.PathPatch at 0x1f149939fd0>,\n",
       "  <matplotlib.patches.PathPatch at 0x1f14994bbe0>,\n",
       "  <matplotlib.patches.PathPatch at 0x1f14995b7f0>,\n",
       "  <matplotlib.patches.PathPatch at 0x1f14996e400>,\n",
       "  <matplotlib.patches.PathPatch at 0x1f149976fd0>,\n",
       "  <matplotlib.patches.PathPatch at 0x1f149987be0>,\n",
       "  <matplotlib.patches.PathPatch at 0x1f1496b1358>,\n",
       "  <matplotlib.patches.PathPatch at 0x1f14999ffd0>,\n",
       "  <matplotlib.patches.PathPatch at 0x1f1499aebe0>,\n",
       "  <matplotlib.patches.PathPatch at 0x1f1499c2780>,\n",
       "  <matplotlib.patches.PathPatch at 0x1f1499d3240>,\n",
       "  <matplotlib.patches.PathPatch at 0x1f1499dccc0>,\n",
       "  <matplotlib.patches.PathPatch at 0x1f1499ee780>],\n",
       " 'medians': [<matplotlib.lines.Line2D at 0x1f14980f080>,\n",
       "  <matplotlib.lines.Line2D at 0x1f1498d9c50>,\n",
       "  <matplotlib.lines.Line2D at 0x1f1498e9860>,\n",
       "  <matplotlib.lines.Line2D at 0x1f1498fc470>,\n",
       "  <matplotlib.lines.Line2D at 0x1f14990e080>,\n",
       "  <matplotlib.lines.Line2D at 0x1f149916c50>,\n",
       "  <matplotlib.lines.Line2D at 0x1f149928860>,\n",
       "  <matplotlib.lines.Line2D at 0x1f149939470>,\n",
       "  <matplotlib.lines.Line2D at 0x1f14994b080>,\n",
       "  <matplotlib.lines.Line2D at 0x1f149953c50>,\n",
       "  <matplotlib.lines.Line2D at 0x1f149963860>,\n",
       "  <matplotlib.lines.Line2D at 0x1f149976470>,\n",
       "  <matplotlib.lines.Line2D at 0x1f149987080>,\n",
       "  <matplotlib.lines.Line2D at 0x1f1496664e0>,\n",
       "  <matplotlib.lines.Line2D at 0x1f14999f470>,\n",
       "  <matplotlib.lines.Line2D at 0x1f1499ae080>,\n",
       "  <matplotlib.lines.Line2D at 0x1f1499b8c50>,\n",
       "  <matplotlib.lines.Line2D at 0x1f1499c9748>,\n",
       "  <matplotlib.lines.Line2D at 0x1f1499dc208>,\n",
       "  <matplotlib.lines.Line2D at 0x1f1499e6c88>,\n",
       "  <matplotlib.lines.Line2D at 0x1f1499f8748>],\n",
       " 'fliers': [<matplotlib.lines.Line2D at 0x1f14980f4a8>,\n",
       "  <matplotlib.lines.Line2D at 0x1f1498df0b8>,\n",
       "  <matplotlib.lines.Line2D at 0x1f1498e9c88>,\n",
       "  <matplotlib.lines.Line2D at 0x1f1498fc898>,\n",
       "  <matplotlib.lines.Line2D at 0x1f14990e4a8>,\n",
       "  <matplotlib.lines.Line2D at 0x1f14991e0b8>,\n",
       "  <matplotlib.lines.Line2D at 0x1f149928c88>,\n",
       "  <matplotlib.lines.Line2D at 0x1f149939898>,\n",
       "  <matplotlib.lines.Line2D at 0x1f14994b4a8>,\n",
       "  <matplotlib.lines.Line2D at 0x1f14995b0b8>,\n",
       "  <matplotlib.lines.Line2D at 0x1f149963c88>,\n",
       "  <matplotlib.lines.Line2D at 0x1f149976898>,\n",
       "  <matplotlib.lines.Line2D at 0x1f1499874a8>,\n",
       "  <matplotlib.lines.Line2D at 0x1f14929b2e8>,\n",
       "  <matplotlib.lines.Line2D at 0x1f14999f898>,\n",
       "  <matplotlib.lines.Line2D at 0x1f1499ae4a8>,\n",
       "  <matplotlib.lines.Line2D at 0x1f1499c20b8>,\n",
       "  <matplotlib.lines.Line2D at 0x1f1499c9b38>,\n",
       "  <matplotlib.lines.Line2D at 0x1f1499dc5f8>,\n",
       "  <matplotlib.lines.Line2D at 0x1f1499ee0b8>,\n",
       "  <matplotlib.lines.Line2D at 0x1f1499f8b38>],\n",
       " 'means': []}"
      ]
     },
     "execution_count": 92,
     "metadata": {},
     "output_type": "execute_result"
    },
    {
     "data": {
      "image/png": "[encoded data removed]",
      "text/plain": [
       "<Figure size 432x288 with 1 Axes>"
      ]
     },
     "metadata": {},
     "output_type": "display_data"
    }
   ],
   "source": [
    "boxprops = dict(linestyle='-', linewidth=1.0, color='k')\n",
    "medianprops = dict(linestyle='-', linewidth=1.0, color='k')\n",
    "whiskerprops = dict(linestyle='-', linewidth=1.0, color='k')\n",
    "capprops = dict(linestyle='-', linewidth=1.0, color='k')\n",
    "plt.boxplot(per_class_accuracy_list.T,\n",
    "    patch_artist = True,\n",
    "    boxprops=boxprops,\n",
    "    capprops=capprops,\n",
    "    medianprops=medianprops,\n",
    "    whiskerprops=whiskerprops,\n",
    "    whis=\"range\")"
   ]
  },
  {
   "cell_type": "code",
   "execution_count": 86,
   "metadata": {},
   "outputs": [
    {
     "data": {
      "text/plain": [
       "['unknown',\n",
       " 'nine',\n",
       " 'one',\n",
       " 'left',\n",
       " 'eight',\n",
       " 'on',\n",
       " 'five',\n",
       " 'up',\n",
       " 'zero',\n",
       " 'seven',\n",
       " 'four',\n",
       " 'yes',\n",
       " 'right',\n",
       " 'stop',\n",
       " 'six',\n",
       " 'down',\n",
       " 'no',\n",
       " 'three',\n",
       " 'off',\n",
       " 'two',\n",
       " 'go']"
      ]
     },
     "execution_count": 86,
     "metadata": {},
     "output_type": "execute_result"
    }
   ],
   "source": [
    "class_names"
   ]
  },
  {
   "cell_type": "code",
   "execution_count": null,
   "metadata": {},
   "outputs": [],
   "source": [
    "fig, ax = plt.subplots(1, 1, sharex=True, figsize=(5, 3))\n",
    "\n",
    "boxprops = dict(linestyle='-', linewidth=1.0, color='k')\n",
    "medianprops = dict(linestyle='-', linewidth=1.0, color='k')\n",
    "whiskerprops = dict(linestyle='-', linewidth=1.0, color='k')\n",
    "capprops = dict(linestyle='-', linewidth=1.0, color='k')\n",
    "bplot = ax.boxplot(\n",
    "    [100 * ,\n",
    "     100 * none_accs,\n",
    "     100 * all_accs],\n",
    "    patch_artist = True,\n",
    "    boxprops=boxprops,\n",
    "    capprops=capprops,\n",
    "    medianprops=medianprops,\n",
    "    whiskerprops=whiskerprops,\n",
    "    whis=\"range\");"
   ]
  }
 ],
 "metadata": {
  "kernelspec": {
   "display_name": "Python 3",
   "language": "python",
   "name": "python3"
  },
  "language_info": {
   "codemirror_mode": {
    "name": "ipython",
    "version": 3
   },
   "file_extension": ".py",
   "mimetype": "text/x-python",
   "name": "python",
   "nbconvert_exporter": "python",
   "pygments_lexer": "ipython3",
   "version": "3.6.5"
  }
 },
 "nbformat": 4,
 "nbformat_minor": 2
}
