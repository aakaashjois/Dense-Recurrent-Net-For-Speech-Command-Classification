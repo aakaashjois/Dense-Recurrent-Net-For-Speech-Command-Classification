{
 "cells": [
  {
   "cell_type": "markdown",
   "metadata": {
    "colab_type": "text",
    "id": "2nfRWRp0Niz0"
   },
   "source": [
    "# Splitting data"
   ]
  },
  {
   "cell_type": "code",
   "execution_count": 1,
   "metadata": {
    "colab": {
     "autoexec": {
      "startup": false,
      "wait_interval": 0
     }
    },
    "colab_type": "code",
    "id": "vbc47rkoK9GT"
   },
   "outputs": [],
   "source": [
    "import glob\n",
    "from scipy.io.wavfile import read\n",
    "import numpy as np"
   ]
  },
  {
   "cell_type": "code",
   "execution_count": 2,
   "metadata": {
    "colab": {
     "autoexec": {
      "startup": false,
      "wait_interval": 0
     }
    },
    "colab_type": "code",
    "id": "uiMrNJEb73CL"
   },
   "outputs": [],
   "source": [
    "SAMPLING_RATE = 16000"
   ]
  },
  {
   "cell_type": "code",
   "execution_count": 3,
   "metadata": {
    "colab": {
     "autoexec": {
      "startup": false,
      "wait_interval": 0
     }
    },
    "colab_type": "code",
    "id": "mxtBWqP3Mtiw"
   },
   "outputs": [],
   "source": [
    "all_data_paths = glob.glob('./data/audio/*/*')\n",
    "all_data_paths = [data.replace('./data/audio/', '') for data in all_data_paths]"
   ]
  },
  {
   "cell_type": "code",
   "execution_count": 4,
   "metadata": {
    "colab": {
     "autoexec": {
      "startup": false,
      "wait_interval": 0
     }
    },
    "colab_type": "code",
    "id": "LCp92uBELz7x"
   },
   "outputs": [],
   "source": [
    "with open('./data/validation_list.txt') as f:\n",
    "    validation_data_paths = f.readlines()\n",
    "validation_data_paths = [data.replace('\\n', '') for data in validation_data_paths]"
   ]
  },
  {
   "cell_type": "code",
   "execution_count": 5,
   "metadata": {
    "colab": {
     "autoexec": {
      "startup": false,
      "wait_interval": 0
     }
    },
    "colab_type": "code",
    "id": "ejZXuO0WN5Fy"
   },
   "outputs": [],
   "source": [
    "with open('./data/testing_list.txt') as f:\n",
    "    test_data_paths = f.readlines()\n",
    "test_data_paths = [data.replace('\\n', '') for data in test_data_paths]"
   ]
  },
  {
   "cell_type": "code",
   "execution_count": 6,
   "metadata": {
    "colab": {
     "autoexec": {
      "startup": false,
      "wait_interval": 0
     }
    },
    "colab_type": "code",
    "id": "SF2rU28qN58T"
   },
   "outputs": [],
   "source": [
    "train_data_paths = list(set(all_data_paths) ^ set(validation_data_paths) ^ set(test_data_paths))"
   ]
  },
  {
   "cell_type": "code",
   "execution_count": 10,
   "metadata": {
    "colab": {
     "autoexec": {
      "startup": false,
      "wait_interval": 0
     }
    },
    "colab_type": "code",
    "id": "yUj6vw6gsNb5"
   },
   "outputs": [],
   "source": [
    "train_data = np.zeros((len(train_data_paths), SAMPLING_RATE))\n",
    "for row_counter, train_data_path in enumerate(train_data_paths):\n",
    "    temp_audio = read('./data/audio/' + train_data_path)[1]\n",
    "    if len(temp_audio) < SAMPLING_RATE:\n",
    "        pad_width = SAMPLING_RATE - len(temp_audio)\n",
    "        temp_audio = np.pad(temp_audio, pad_width=(0, pad_width), mode='constant')\n",
    "    elif len(temp_audio) > SAMPLING_RATE:\n",
    "        length_to_truncate = (len(temp_audio) - SAMPLING_RATE)//2\n",
    "        temp_audio = temp_audio[length_to_truncate : SAMPLING_RATE + length_to_truncate]\n",
    "    train_data[row_counter][:] = temp_audio[:]"
   ]
  },
  {
   "cell_type": "code",
   "execution_count": 11,
   "metadata": {
    "colab": {
     "autoexec": {
      "startup": false,
      "wait_interval": 0
     },
     "base_uri": "https://localhost:8080/",
     "height": 521
    },
    "colab_type": "code",
    "executionInfo": {
     "elapsed": 294238,
     "status": "error",
     "timestamp": 1523894788840,
     "user": {
      "displayName": "Keerthi Sravan Ravi",
      "photoUrl": "//lh3.googleusercontent.com/-Lb2JHfut8xI/AAAAAAAAAAI/AAAAAAAAAAs/irIb66ayBnc/s50-c-k-no/photo.jpg",
      "userId": "105980968572259486139"
     },
     "user_tz": 240
    },
    "id": "o3QQJ5E_CEu0",
    "outputId": "e72e9c90-c451-4f8d-93d5-ec38fa5e9690"
   },
   "outputs": [],
   "source": [
    "np.save('./data/train_data', train_data)"
   ]
  },
  {
   "cell_type": "code",
   "execution_count": 14,
   "metadata": {},
   "outputs": [],
   "source": [
    "train_data = []"
   ]
  },
  {
   "cell_type": "code",
   "execution_count": 16,
   "metadata": {
    "colab": {
     "autoexec": {
      "startup": false,
      "wait_interval": 0
     }
    },
    "colab_type": "code",
    "id": "-swAGEUr7aah"
   },
   "outputs": [],
   "source": [
    "validation_data = np.zeros((len(validation_data_paths), SAMPLING_RATE))\n",
    "for row_counter, validation_data_path in enumerate(validation_data_paths):\n",
    "    temp_audio = read('./data/audio/' + validation_data_path)[1]\n",
    "    if len(temp_audio) < SAMPLING_RATE:\n",
    "        pad_width = SAMPLING_RATE - len(temp_audio)\n",
    "        temp_audio = np.pad(temp_audio, pad_width=(0, pad_width), mode='constant')\n",
    "    elif len(temp_audio) > SAMPLING_RATE:\n",
    "        length_to_truncate = (len(temp_audio) - SAMPLING_RATE)//2\n",
    "        temp_audio = temp_audio[length_to_truncate : SAMPLING_RATE + length_to_truncate]\n",
    "    validation_data[row_counter][:] = temp_audio[:]"
   ]
  },
  {
   "cell_type": "code",
   "execution_count": 17,
   "metadata": {
    "colab": {
     "autoexec": {
      "startup": false,
      "wait_interval": 0
     }
    },
    "colab_type": "code",
    "id": "5KhJjUCDLoHo"
   },
   "outputs": [],
   "source": [
    "np.save('./data/validation_data', validation_data)"
   ]
  },
  {
   "cell_type": "code",
   "execution_count": 18,
   "metadata": {},
   "outputs": [],
   "source": [
    "validation_data = []"
   ]
  },
  {
   "cell_type": "code",
   "execution_count": 19,
   "metadata": {
    "colab": {
     "autoexec": {
      "startup": false,
      "wait_interval": 0
     }
    },
    "colab_type": "code",
    "id": "iQGgHOwp7oCt"
   },
   "outputs": [],
   "source": [
    "test_data = np.zeros((len(test_data_paths), SAMPLING_RATE))\n",
    "for row_counter, test_data_path in enumerate(test_data_paths):\n",
    "    temp_audio = read('./data/audio/' + test_data_path)[1]\n",
    "    if len(temp_audio) < SAMPLING_RATE:\n",
    "        pad_width = SAMPLING_RATE - len(temp_audio)\n",
    "        temp_audio = np.pad(temp_audio, pad_width=(0, pad_width), mode='constant')\n",
    "    elif len(temp_audio) > SAMPLING_RATE:\n",
    "        length_to_truncate = (len(temp_audio) - SAMPLING_RATE)//2\n",
    "        temp_audio = temp_audio[length_to_truncate : SAMPLING_RATE + length_to_truncate]\n",
    "    test_data[row_counter][:] = temp_audio[:]"
   ]
  },
  {
   "cell_type": "code",
   "execution_count": 20,
   "metadata": {
    "colab": {
     "autoexec": {
      "startup": false,
      "wait_interval": 0
     }
    },
    "colab_type": "code",
    "id": "HkZpzhMBLsHM"
   },
   "outputs": [],
   "source": [
    "np.save('./data/test_data', test_data)"
   ]
  }
 ],
 "metadata": {
  "accelerator": "GPU",
  "colab": {
   "default_view": {},
   "name": "SCURRNN.ipynb",
   "provenance": [],
   "version": "0.3.2",
   "views": {}
  },
  "kernelspec": {
   "display_name": "Python 3",
   "language": "python",
   "name": "python3"
  },
  "language_info": {
   "codemirror_mode": {
    "name": "ipython",
    "version": 3
   },
   "file_extension": ".py",
   "mimetype": "text/x-python",
   "name": "python",
   "nbconvert_exporter": "python",
   "pygments_lexer": "ipython3",
   "version": "3.6.3"
  }
 },
 "nbformat": 4,
 "nbformat_minor": 1
}
