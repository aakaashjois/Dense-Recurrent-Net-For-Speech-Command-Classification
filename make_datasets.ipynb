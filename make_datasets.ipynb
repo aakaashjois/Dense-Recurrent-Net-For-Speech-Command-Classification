{
 "cells": [
  {
   "cell_type": "markdown",
   "metadata": {
    "colab_type": "text",
    "id": "2nfRWRp0Niz0"
   },
   "source": [
    "# Make training, testing and validation datasets\n",
    "\n",
    "- Split entire dataset into training, testing and validation\n",
    "- .txt files contain filenames of testing and validation audio files\n",
    "- XOR all filenames with testing and validation filenames to create a set of training filenames"
   ]
  },
  {
   "cell_type": "code",
   "execution_count": 83,
   "metadata": {
    "colab": {
     "autoexec": {
      "startup": false,
      "wait_interval": 0
     }
    },
    "colab_type": "code",
    "id": "vbc47rkoK9GT"
   },
   "outputs": [],
   "source": [
    "import glob\n",
    "import librosa\n",
    "import numpy as np\n",
    "import os"
   ]
  },
  {
   "cell_type": "markdown",
   "metadata": {},
   "source": [
    "**Directory structure**:<br>\n",
    "data:<br>\n",
    "| - testing_list.txt<br>\n",
    "| - validation_list.txt<br>\n",
    "| audio<br>\n",
    ". . | - .<br>\n",
    ". . | - ."
   ]
  },
  {
   "cell_type": "code",
   "execution_count": 1,
   "metadata": {
    "colab": {
     "autoexec": {
      "startup": false,
      "wait_interval": 0
     }
    },
    "colab_type": "code",
    "collapsed": true,
    "id": "uiMrNJEb73CL"
   },
   "outputs": [
    {
     "ename": "NameError",
     "evalue": "name 'os' is not defined",
     "output_type": "error",
     "traceback": [
      "\u001b[0;31m---------------------------------------------------------------------------\u001b[0m",
      "\u001b[0;31mNameError\u001b[0m                                 Traceback (most recent call last)",
      "\u001b[0;32m<ipython-input-1-90fd0aac4cdc>\u001b[0m in \u001b[0;36m<module>\u001b[0;34m()\u001b[0m\n\u001b[0;32m----> 1\u001b[0;31m \u001b[0mPATH_TO_DATA\u001b[0m \u001b[0;34m=\u001b[0m \u001b[0mos\u001b[0m\u001b[0;34m.\u001b[0m\u001b[0mpath\u001b[0m\u001b[0;34m.\u001b[0m\u001b[0mjoin\u001b[0m\u001b[0;34m(\u001b[0m\u001b[0mos\u001b[0m\u001b[0;34m.\u001b[0m\u001b[0mgetcwd\u001b[0m\u001b[0;34m(\u001b[0m\u001b[0;34m)\u001b[0m\u001b[0;34m,\u001b[0m \u001b[0;34m'data'\u001b[0m\u001b[0;34m)\u001b[0m\u001b[0;34m\u001b[0m\u001b[0m\n\u001b[0m\u001b[1;32m      2\u001b[0m \u001b[0mPATH_TO_AUDIO\u001b[0m \u001b[0;34m=\u001b[0m \u001b[0mos\u001b[0m\u001b[0;34m.\u001b[0m\u001b[0mpath\u001b[0m\u001b[0;34m.\u001b[0m\u001b[0mjoin\u001b[0m\u001b[0;34m(\u001b[0m\u001b[0mPATH_TO_DATA\u001b[0m\u001b[0;34m,\u001b[0m \u001b[0;34m'audio'\u001b[0m\u001b[0;34m)\u001b[0m\u001b[0;34m\u001b[0m\u001b[0m\n\u001b[1;32m      3\u001b[0m \u001b[0mSAMPLING_RATE\u001b[0m \u001b[0;34m=\u001b[0m \u001b[0;36m16000\u001b[0m\u001b[0;34m\u001b[0m\u001b[0m\n\u001b[1;32m      4\u001b[0m \u001b[0;34m\u001b[0m\u001b[0m\n\u001b[1;32m      5\u001b[0m \u001b[0;31m# Replace leading `.../data/audio/*/*` path with `/audio/*`\u001b[0m\u001b[0;34m\u001b[0m\u001b[0;34m\u001b[0m\u001b[0m\n",
      "\u001b[0;31mNameError\u001b[0m: name 'os' is not defined"
     ]
    }
   ],
   "source": [
    "PATH_TO_DATA = os.path.join(os.getcwd(), 'data')\n",
    "PATH_TO_AUDIO = os.path.join(PATH_TO_DATA, 'audio')\n",
    "SAMPLING_RATE = 16000\n",
    "\n",
    "# Replace leading .../data/audio/*/* path with /audio/*\n",
    "all_data_paths = glob.glob(os.path.join(PATH_TO_AUDIO, '*', '*'))\n",
    "all_data_paths = np.vectorize(str.replace)(all_data_paths, os.path.join(PATH_TO_AUDIO, ''), '')"
   ]
  },
  {
   "cell_type": "code",
   "execution_count": 115,
   "metadata": {
    "colab": {
     "autoexec": {
      "startup": false,
      "wait_interval": 0
     }
    },
    "colab_type": "code",
    "id": "LCp92uBELz7x"
   },
   "outputs": [],
   "source": [
    "# Create a lambda function that helps in vectorizing the string replace function\n",
    "split_join = lambda x: os.path.join(*str.split(x, '/'))\n",
    "\n",
    "with open(os.path.join(PATH_TO_DATA,'testing_list.txt')) as f:\n",
    "    test_data_paths = f.readlines()\n",
    "test_data_paths = np.vectorize(str.replace)(test_data_paths, '\\n', '')\n",
    "test_data_paths = np.vectorize(split_join)(test_data_paths)\n",
    "\n",
    "with open(os.path.join(PATH_TO_DATA, 'validation_list.txt')) as f:\n",
    "    validation_data_paths = f.readlines()\n",
    "validation_data_paths = np.vectorize(str.replace)(validation_data_paths, '\\n', '')\n",
    "validation_data_paths = np.vectorize(split_join)(validation_data_paths)\n",
    "\n",
    "train_data_paths = list(set(all_data_paths) ^ set(validation_data_paths) ^ set(test_data_paths))"
   ]
  },
  {
   "cell_type": "code",
   "execution_count": 111,
   "metadata": {},
   "outputs": [],
   "source": [
    "train_data_paths = train_data_paths[0: 100]\n",
    "validation_data_paths = validation_data_paths[0: 100]"
   ]
  },
  {
   "cell_type": "code",
   "execution_count": 112,
   "metadata": {},
   "outputs": [],
   "source": [
    "def read_audio_file(audio_file_path):\n",
    "    audio_file = librosa.load(os.path.join('data', 'audio', audio_file_path))[0]\n",
    "    if len(audio_file) < SAMPLING_RATE:\n",
    "        pad_width = (SAMPLING_RATE - len(temp_audio)) // 2\n",
    "        audio_file = np.pad(temp_audio, pad_width=pad_width, mode='constant')\n",
    "    elif len(audio_file) > SAMPLING_RATE:\n",
    "        length_to_truncate = (len(temp_audio) - SAMPLING_RATE)//2\n",
    "        audio_file = temp_audio[length_to_truncate : SAMPLING_RATE + length_to_truncate]\n",
    "    return audio_file"
   ]
  },
  {
   "cell_type": "markdown",
   "metadata": {},
   "source": [
    "Create and save training, testing and validation datasets as `.npy` files"
   ]
  },
  {
   "cell_type": "code",
   "execution_count": 113,
   "metadata": {
    "colab": {
     "autoexec": {
      "startup": false,
      "wait_interval": 0
     }
    },
    "colab_type": "code",
    "id": "yUj6vw6gsNb5"
   },
   "outputs": [],
   "source": [
    "train_data = np.zeros((len(train_data_paths), SAMPLING_RATE))\n",
    "for row_counter, path in enumerate(train_data_paths):\n",
    "    train_data[row_counter][:] = read_audio_file(path)[:]"
   ]
  },
  {
   "cell_type": "code",
   "execution_count": 79,
   "metadata": {
    "colab": {
     "autoexec": {
      "startup": false,
      "wait_interval": 0
     },
     "base_uri": "https://localhost:8080/",
     "height": 521
    },
    "colab_type": "code",
    "executionInfo": {
     "elapsed": 294238,
     "status": "error",
     "timestamp": 1523894788840,
     "user": {
      "displayName": "Keerthi Sravan Ravi",
      "photoUrl": "//lh3.googleusercontent.com/-Lb2JHfut8xI/AAAAAAAAAAI/AAAAAAAAAAs/irIb66ayBnc/s50-c-k-no/photo.jpg",
      "userId": "105980968572259486139"
     },
     "user_tz": 240
    },
    "id": "o3QQJ5E_CEu0",
    "outputId": "e72e9c90-c451-4f8d-93d5-ec38fa5e9690"
   },
   "outputs": [],
   "source": [
    "np.save('./data/train_data_100', train_data)"
   ]
  },
  {
   "cell_type": "code",
   "execution_count": 19,
   "metadata": {
    "colab": {
     "autoexec": {
      "startup": false,
      "wait_interval": 0
     }
    },
    "colab_type": "code",
    "id": "iQGgHOwp7oCt"
   },
   "outputs": [],
   "source": [
    "test_data = np.zeros((len(test_data_paths), SAMPLING_RATE))\n",
    "for row_counter, path in enumerate(test_data_paths):\n",
    "    test_data[row_counter][:] = read_audio_file(path)[:]"
   ]
  },
  {
   "cell_type": "code",
   "execution_count": 20,
   "metadata": {
    "colab": {
     "autoexec": {
      "startup": false,
      "wait_interval": 0
     }
    },
    "colab_type": "code",
    "id": "HkZpzhMBLsHM"
   },
   "outputs": [],
   "source": [
    "np.save('./data/test_data', test_data)"
   ]
  },
  {
   "cell_type": "code",
   "execution_count": 100,
   "metadata": {
    "colab": {
     "autoexec": {
      "startup": false,
      "wait_interval": 0
     }
    },
    "colab_type": "code",
    "id": "-swAGEUr7aah"
   },
   "outputs": [],
   "source": [
    "validation_data = np.zeros((len(validation_data_paths), SAMPLING_RATE))\n",
    "for row_counter, path in enumerate(validation_data_paths):\n",
    "    validation_data[row_counter][:] = read_audio_file(path)[:]"
   ]
  },
  {
   "cell_type": "code",
   "execution_count": 81,
   "metadata": {
    "colab": {
     "autoexec": {
      "startup": false,
      "wait_interval": 0
     }
    },
    "colab_type": "code",
    "id": "5KhJjUCDLoHo"
   },
   "outputs": [],
   "source": [
    "np.save('./data/validation_data_100', validation_data)"
   ]
  }
 ],
 "metadata": {
  "accelerator": "GPU",
  "colab": {
   "default_view": {},
   "name": "SCURRNN.ipynb",
   "provenance": [],
   "version": "0.3.2",
   "views": {}
  },
  "kernelspec": {
   "display_name": "Python 3",
   "language": "python",
   "name": "python3"
  },
  "language_info": {
   "codemirror_mode": {
    "name": "ipython",
    "version": 3
   },
   "file_extension": ".py",
   "mimetype": "text/x-python",
   "name": "python",
   "nbconvert_exporter": "python",
   "pygments_lexer": "ipython3",
   "version": "3.6.3"
  }
 },
 "nbformat": 4,
 "nbformat_minor": 1
}
