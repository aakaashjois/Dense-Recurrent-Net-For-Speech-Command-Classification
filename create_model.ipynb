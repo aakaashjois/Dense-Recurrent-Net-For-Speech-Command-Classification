{
 "cells": [
  {
   "cell_type": "code",
   "execution_count": 1,
   "metadata": {},
   "outputs": [
    {
     "name": "stderr",
     "output_type": "stream",
     "text": [
      "/home/aj2309/.local/share/virtualenvs/Speech-Command-Classification-using-RRNN-6uPQ0_80/lib/python3.6/site-packages/h5py/__init__.py:36: FutureWarning: Conversion of the second argument of issubdtype from `float` to `np.floating` is deprecated. In future, it will be treated as `np.float64 == np.dtype(float).type`.\n",
      "  from ._conv import register_converters as _register_converters\n"
     ]
    }
   ],
   "source": [
    "import os\n",
    "import numpy as np\n",
    "import tensorflow as tf\n",
    "import matplotlib.pyplot as plt\n",
    "from sklearn.preprocessing import LabelEncoder\n",
    "from sklearn.metrics import confusion_matrix"
   ]
  },
  {
   "cell_type": "code",
   "execution_count": 2,
   "metadata": {},
   "outputs": [],
   "source": [
    "keras = tf.keras\n",
    "Input = keras.layers.Input\n",
    "Conv2D = keras.layers.Conv2D\n",
    "Flatten = keras.layers.Flatten\n",
    "Dense = keras.layers.Dense\n",
    "GlobalAveragePooling2D = keras.layers.GlobalAveragePooling2D\n",
    "Concatenate = keras.layers.Concatenate\n",
    "Model = keras.Model"
   ]
  },
  {
   "cell_type": "code",
   "execution_count": 3,
   "metadata": {},
   "outputs": [],
   "source": [
    "train_data = np.load('./data/train_data.npy')\n",
    "train_labels = np.load('./data/train_labels.npy')\n",
    "\n",
    "validation_data = np.load('./data/validation_data.npy')\n",
    "validation_labels = np.load('./data/validation_labels.npy')\n",
    "\n",
    "test_data = np.load('./data/test_data.npy')\n",
    "test_labels = np.load('./data/test_labels.npy')"
   ]
  },
  {
   "cell_type": "code",
   "execution_count": 4,
   "metadata": {},
   "outputs": [],
   "source": [
    "# One-hot encode the labels\n",
    "PATH_TO_DATA = os.path.join(os.getcwd(), 'data')\n",
    "PATH_TO_AUDIO = os.path.join(PATH_TO_DATA, 'audio')\n",
    "LABELS = os.listdir(PATH_TO_AUDIO)\n",
    "NUM_CLASSES = len(LABELS)\n",
    "label_encoder = LabelEncoder().fit(LABELS)\n",
    "\n",
    "train_labels = keras.utils.to_categorical(label_encoder.transform(train_labels), num_classes=NUM_CLASSES)\n",
    "validation_labels = keras.utils.to_categorical(label_encoder.transform(validation_labels), num_classes=NUM_CLASSES)\n",
    "test_labels = keras.utils.to_categorical(label_encoder.transform(test_labels), num_classes=NUM_CLASSES)"
   ]
  },
  {
   "cell_type": "code",
   "execution_count": 5,
   "metadata": {},
   "outputs": [],
   "source": [
    "# Reshape data for compatibility with Keras\n",
    "train_data = train_data.reshape((*train_data.shape, 1))\n",
    "validation_data = validation_data.reshape((*validation_data.shape, 1))\n",
    "test_data = test_data.reshape((*test_data.shape, 1))"
   ]
  },
  {
   "cell_type": "markdown",
   "metadata": {},
   "source": [
    "#### Basic CNN Model"
   ]
  },
  {
   "cell_type": "code",
   "execution_count": null,
   "metadata": {},
   "outputs": [],
   "source": [
    "# keras.backend.clear_session()"
   ]
  },
  {
   "cell_type": "code",
   "execution_count": 41,
   "metadata": {},
   "outputs": [
    {
     "name": "stdout",
     "output_type": "stream",
     "text": [
      "__________________________________________________________________________________________________\n",
      "Layer (type)                    Output Shape         Param #     Connected to                     \n",
      "==================================================================================================\n",
      "input_3 (InputLayer)            (None, 128, 63, 1)   0                                            \n",
      "__________________________________________________________________________________________________\n",
      "conv2d_10 (Conv2D)              (None, 128, 63, 48)  1200        input_3[0][0]                    \n",
      "__________________________________________________________________________________________________\n",
      "conv2d_11 (Conv2D)              (None, 128, 63, 48)  55344       conv2d_10[0][0]                  \n",
      "__________________________________________________________________________________________________\n",
      "conv2d_12 (Conv2D)              (None, 128, 63, 36)  41508       conv2d_11[0][0]                  \n",
      "__________________________________________________________________________________________________\n",
      "concatenate_3 (Concatenate)     (None, 128, 63, 84)  0           conv2d_12[0][0]                  \n",
      "                                                                 conv2d_10[0][0]                  \n",
      "__________________________________________________________________________________________________\n",
      "conv2d_13 (Conv2D)              (None, 128, 63, 48)  96816       concatenate_3[0][0]              \n",
      "__________________________________________________________________________________________________\n",
      "conv2d_14 (Conv2D)              (None, 128, 63, 36)  41508       conv2d_13[0][0]                  \n",
      "__________________________________________________________________________________________________\n",
      "global_average_pooling2d_3 (Glo (None, 36)           0           conv2d_14[0][0]                  \n",
      "__________________________________________________________________________________________________\n",
      "dense_3 (Dense)                 (None, 30)           1110        global_average_pooling2d_3[0][0] \n",
      "==================================================================================================\n",
      "Total params: 237,486\n",
      "Trainable params: 237,486\n",
      "Non-trainable params: 0\n",
      "__________________________________________________________________________________________________\n"
     ]
    }
   ],
   "source": [
    "input_layer = Input(shape=train_data.shape[1:])\n",
    "conv_1 = Conv2D(filters=48, kernel_size=(8, 3), padding='same', activation='relu')(input_layer)\n",
    "conv_2 = Conv2D(filters=48, kernel_size=(8, 3), padding='same', activation='relu')(conv_1)\n",
    "conv_3 = Conv2D(filters=36, kernel_size=(8, 3), padding='same', activation='relu')(conv_2)\n",
    "concat = Concatenate(axis=3)([conv_3, conv_1])\n",
    "conv_4 = Conv2D(filters=48, kernel_size=(8, 3), padding='same', activation='relu')(concat)\n",
    "conv_5 = Conv2D(filters=36, kernel_size=(8, 3), padding='same', activation='relu')(conv_4)\n",
    "gap_1 = GlobalAveragePooling2D()(conv_5)\n",
    "dense = Dense(30, activation='softmax')(gap_1)\n",
    "model = Model(inputs=input_layer, outputs=dense)\n",
    "\n",
    "# Display model summary for reference\n",
    "model.summary()"
   ]
  },
  {
   "cell_type": "markdown",
   "metadata": {},
   "source": [
    "Define callbacks"
   ]
  },
  {
   "cell_type": "code",
   "execution_count": 7,
   "metadata": {},
   "outputs": [],
   "source": [
    "ARCH_NAME = 'arch3_100e_512b'"
   ]
  },
  {
   "cell_type": "code",
   "execution_count": 46,
   "metadata": {},
   "outputs": [],
   "source": [
    "early_stop_callback = keras.callbacks.EarlyStopping(monitor='val_loss', \n",
    "                                                    min_delta=0, \n",
    "                                                    patience=10, \n",
    "                                                    verbose=0, \n",
    "                                                    mode='auto')\n",
    "\n",
    "reduce_lr_plateau_callback = keras.callbacks.ReduceLROnPlateau(monitor='val_loss', \n",
    "                                                               factor=0.1, \n",
    "                                                               patience=5, \n",
    "                                                               verbose=0, \n",
    "                                                               mode='auto', \n",
    "                                                               cooldown=0, min_lr=0)\n",
    "csv_logger = keras.callbacks.CSVLogger(ARCH_NAME + '.csv')\n",
    "\n",
    "callbacks = [early_stop_callback, reduce_lr_plateau_callback, csv_logger]"
   ]
  },
  {
   "cell_type": "code",
   "execution_count": null,
   "metadata": {
    "scrolled": false
   },
   "outputs": [
    {
     "name": "stdout",
     "output_type": "stream",
     "text": [
      "Train on 51088 samples, validate on 6798 samples\n",
      "Epoch 1/100\n",
      "51088/51088 [==============================] - 129s 3ms/step - loss: 3.3514 - acc: 0.0561 - val_loss: 3.2308 - val_acc: 0.0828\n",
      "Epoch 2/100\n",
      "51088/51088 [==============================] - 122s 2ms/step - loss: 2.9988 - acc: 0.1443 - val_loss: 2.7672 - val_acc: 0.2021\n",
      "Epoch 3/100\n",
      "51088/51088 [==============================] - 122s 2ms/step - loss: 2.5449 - acc: 0.2661 - val_loss: 2.2543 - val_acc: 0.3438\n",
      "Epoch 4/100\n",
      "51088/51088 [==============================] - 122s 2ms/step - loss: 2.1300 - acc: 0.3776 - val_loss: 1.9260 - val_acc: 0.4329\n",
      "Epoch 5/100\n",
      "51088/51088 [==============================] - 122s 2ms/step - loss: 1.8148 - acc: 0.4714 - val_loss: 1.6681 - val_acc: 0.5128\n",
      "Epoch 6/100\n",
      "51088/51088 [==============================] - 122s 2ms/step - loss: 1.5472 - acc: 0.5541 - val_loss: 1.4802 - val_acc: 0.5696\n",
      "Epoch 7/100\n",
      "51088/51088 [==============================] - 122s 2ms/step - loss: 1.3722 - acc: 0.6067 - val_loss: 1.2567 - val_acc: 0.6418\n",
      "Epoch 8/100\n",
      "51088/51088 [==============================] - 122s 2ms/step - loss: 1.2230 - acc: 0.6527 - val_loss: 1.1645 - val_acc: 0.6709\n",
      "Epoch 9/100\n",
      "51088/51088 [==============================] - 122s 2ms/step - loss: 1.1350 - acc: 0.6769 - val_loss: 1.0529 - val_acc: 0.7052\n",
      "Epoch 10/100\n",
      "51088/51088 [==============================] - 122s 2ms/step - loss: 1.0263 - acc: 0.7090 - val_loss: 0.9969 - val_acc: 0.7148\n",
      "Epoch 11/100\n",
      "51088/51088 [==============================] - 122s 2ms/step - loss: 0.9759 - acc: 0.7226 - val_loss: 1.0035 - val_acc: 0.7180\n",
      "Epoch 12/100\n",
      "51088/51088 [==============================] - 122s 2ms/step - loss: 0.9232 - acc: 0.7384 - val_loss: 0.9235 - val_acc: 0.7354\n",
      "Epoch 13/100\n",
      "51088/51088 [==============================] - 122s 2ms/step - loss: 0.8709 - acc: 0.7530 - val_loss: 0.8930 - val_acc: 0.7418\n",
      "Epoch 14/100\n",
      "51088/51088 [==============================] - 122s 2ms/step - loss: 0.8379 - acc: 0.7610 - val_loss: 0.8117 - val_acc: 0.7698\n",
      "Epoch 15/100\n",
      "51088/51088 [==============================] - 122s 2ms/step - loss: 0.8011 - acc: 0.7715 - val_loss: 0.7783 - val_acc: 0.7776\n",
      "Epoch 16/100\n",
      "51088/51088 [==============================] - 122s 2ms/step - loss: 0.7703 - acc: 0.7818 - val_loss: 0.7601 - val_acc: 0.7839\n",
      "Epoch 17/100\n",
      "51088/51088 [==============================] - 122s 2ms/step - loss: 0.7474 - acc: 0.7877 - val_loss: 0.7277 - val_acc: 0.7932\n",
      "Epoch 18/100\n",
      "51088/51088 [==============================] - 122s 2ms/step - loss: 0.7255 - acc: 0.7916 - val_loss: 0.7409 - val_acc: 0.7893\n",
      "Epoch 19/100\n",
      "51088/51088 [==============================] - 122s 2ms/step - loss: 0.6956 - acc: 0.8022 - val_loss: 0.7019 - val_acc: 0.8020\n",
      "Epoch 20/100\n",
      "51088/51088 [==============================] - 122s 2ms/step - loss: 0.6894 - acc: 0.8022 - val_loss: 0.7012 - val_acc: 0.7983\n",
      "Epoch 21/100\n",
      "51088/51088 [==============================] - 122s 2ms/step - loss: 0.6689 - acc: 0.8096 - val_loss: 0.7209 - val_acc: 0.7945\n",
      "Epoch 22/100\n",
      "51088/51088 [==============================] - 122s 2ms/step - loss: 0.6676 - acc: 0.8095 - val_loss: 0.6776 - val_acc: 0.8052\n",
      "Epoch 23/100\n",
      "51088/51088 [==============================] - 122s 2ms/step - loss: 0.6414 - acc: 0.8148 - val_loss: 0.7024 - val_acc: 0.8026\n",
      "Epoch 24/100\n",
      "51088/51088 [==============================] - 122s 2ms/step - loss: 0.6229 - acc: 0.8219 - val_loss: 0.6142 - val_acc: 0.8272\n",
      "Epoch 25/100\n",
      "51088/51088 [==============================] - 122s 2ms/step - loss: 0.6003 - acc: 0.8285 - val_loss: 0.6602 - val_acc: 0.8119\n",
      "Epoch 26/100\n",
      "51088/51088 [==============================] - 122s 2ms/step - loss: 0.5915 - acc: 0.8303 - val_loss: 0.6173 - val_acc: 0.8214\n",
      "Epoch 27/100\n",
      "51088/51088 [==============================] - 122s 2ms/step - loss: 0.5876 - acc: 0.8319 - val_loss: 0.6105 - val_acc: 0.8242\n",
      "Epoch 28/100\n",
      "51088/51088 [==============================] - 122s 2ms/step - loss: 0.5743 - acc: 0.8343 - val_loss: 0.6069 - val_acc: 0.8244\n",
      "Epoch 29/100\n",
      "51088/51088 [==============================] - 122s 2ms/step - loss: 0.5707 - acc: 0.8364 - val_loss: 0.6475 - val_acc: 0.8077\n",
      "Epoch 30/100\n",
      "51088/51088 [==============================] - 122s 2ms/step - loss: 0.5520 - acc: 0.8421 - val_loss: 0.6115 - val_acc: 0.8197\n",
      "Epoch 31/100\n",
      "51088/51088 [==============================] - 122s 2ms/step - loss: 0.5401 - acc: 0.8449 - val_loss: 0.5746 - val_acc: 0.8322\n",
      "Epoch 32/100\n",
      "51088/51088 [==============================] - 122s 2ms/step - loss: 0.5378 - acc: 0.8459 - val_loss: 0.5611 - val_acc: 0.8388\n",
      "Epoch 33/100\n",
      "51088/51088 [==============================] - 122s 2ms/step - loss: 0.5237 - acc: 0.8511 - val_loss: 0.5448 - val_acc: 0.8452\n",
      "Epoch 34/100\n",
      "51088/51088 [==============================] - 122s 2ms/step - loss: 0.5200 - acc: 0.8516 - val_loss: 0.5835 - val_acc: 0.8280\n",
      "Epoch 35/100\n",
      "51088/51088 [==============================] - 122s 2ms/step - loss: 0.5117 - acc: 0.8527 - val_loss: 0.5313 - val_acc: 0.8442\n",
      "Epoch 36/100\n",
      "51088/51088 [==============================] - 122s 2ms/step - loss: 0.5149 - acc: 0.8509 - val_loss: 0.5985 - val_acc: 0.8222\n",
      "Epoch 37/100\n",
      "51088/51088 [==============================] - 122s 2ms/step - loss: 0.5003 - acc: 0.8562 - val_loss: 0.5709 - val_acc: 0.8289\n",
      "Epoch 38/100\n",
      "51088/51088 [==============================] - 122s 2ms/step - loss: 0.4872 - acc: 0.8614 - val_loss: 0.5513 - val_acc: 0.8385\n",
      "Epoch 39/100\n",
      "51088/51088 [==============================] - 122s 2ms/step - loss: 0.4828 - acc: 0.8615 - val_loss: 0.5471 - val_acc: 0.8400\n",
      "Epoch 40/100\n",
      "51088/51088 [==============================] - 122s 2ms/step - loss: 0.4884 - acc: 0.8587 - val_loss: 0.5174 - val_acc: 0.8505\n",
      "Epoch 41/100\n",
      "51088/51088 [==============================] - 122s 2ms/step - loss: 0.4720 - acc: 0.8638 - val_loss: 0.5407 - val_acc: 0.8410\n",
      "Epoch 42/100\n",
      "51088/51088 [==============================] - 122s 2ms/step - loss: 0.4743 - acc: 0.8638 - val_loss: 0.5490 - val_acc: 0.8392\n",
      "Epoch 43/100\n",
      "51088/51088 [==============================] - 122s 2ms/step - loss: 0.4587 - acc: 0.8692 - val_loss: 0.5210 - val_acc: 0.8463\n",
      "Epoch 44/100\n",
      "51088/51088 [==============================] - 122s 2ms/step - loss: 0.4531 - acc: 0.8686 - val_loss: 0.4920 - val_acc: 0.8601\n",
      "Epoch 45/100\n",
      "51088/51088 [==============================] - 122s 2ms/step - loss: 0.4482 - acc: 0.8714 - val_loss: 0.5227 - val_acc: 0.8475\n",
      "Epoch 46/100\n",
      "51088/51088 [==============================] - 122s 2ms/step - loss: 0.4433 - acc: 0.8734 - val_loss: 0.5196 - val_acc: 0.8432\n",
      "Epoch 47/100\n",
      "51088/51088 [==============================] - 122s 2ms/step - loss: 0.4377 - acc: 0.8728 - val_loss: 0.5228 - val_acc: 0.8498\n",
      "Epoch 48/100\n",
      "51088/51088 [==============================] - 122s 2ms/step - loss: 0.4272 - acc: 0.8766 - val_loss: 0.5018 - val_acc: 0.8547\n",
      "Epoch 49/100\n",
      "51088/51088 [==============================] - 122s 2ms/step - loss: 0.4358 - acc: 0.8743 - val_loss: 0.4996 - val_acc: 0.8576\n",
      "Epoch 50/100\n",
      "51088/51088 [==============================] - 122s 2ms/step - loss: 0.4223 - acc: 0.8784 - val_loss: 0.5235 - val_acc: 0.8451\n",
      "Epoch 51/100\n",
      "51088/51088 [==============================] - 122s 2ms/step - loss: 0.3767 - acc: 0.8934 - val_loss: 0.4465 - val_acc: 0.8701\n",
      "Epoch 52/100\n",
      "51088/51088 [==============================] - 122s 2ms/step - loss: 0.3694 - acc: 0.8957 - val_loss: 0.4461 - val_acc: 0.8688\n",
      "Epoch 53/100\n",
      "51088/51088 [==============================] - 122s 2ms/step - loss: 0.3673 - acc: 0.8964 - val_loss: 0.4418 - val_acc: 0.8716\n",
      "Epoch 54/100\n",
      "51088/51088 [==============================] - 122s 2ms/step - loss: 0.3665 - acc: 0.8966 - val_loss: 0.4442 - val_acc: 0.8704\n",
      "Epoch 55/100\n",
      "51088/51088 [==============================] - 122s 2ms/step - loss: 0.3656 - acc: 0.8967 - val_loss: 0.4411 - val_acc: 0.8707\n",
      "Epoch 56/100\n",
      "51088/51088 [==============================] - 122s 2ms/step - loss: 0.3649 - acc: 0.8967 - val_loss: 0.4420 - val_acc: 0.8711\n",
      "Epoch 57/100\n",
      "51088/51088 [==============================] - 122s 2ms/step - loss: 0.3645 - acc: 0.8968 - val_loss: 0.4391 - val_acc: 0.8741\n",
      "Epoch 58/100\n",
      "51088/51088 [==============================] - 122s 2ms/step - loss: 0.3650 - acc: 0.8968 - val_loss: 0.4419 - val_acc: 0.8704\n",
      "Epoch 59/100\n",
      "51088/51088 [==============================] - 122s 2ms/step - loss: 0.3658 - acc: 0.8967 - val_loss: 0.4489 - val_acc: 0.8698\n",
      "Epoch 60/100\n",
      "11264/51088 [=====>........................] - ETA: 1:29 - loss: 0.3650 - acc: 0.8966"
     ]
    }
   ],
   "source": [
    "model.compile(optimizer='adam', loss='categorical_crossentropy', metrics=['accuracy'])\n",
    "history = model.fit(train_data, \n",
    "          train_labels, \n",
    "          epochs=100, \n",
    "          batch_size=512, \n",
    "          validation_data=(validation_data, validation_labels), \n",
    "          shuffle=True,\n",
    "          callbacks=callbacks,\n",
    "          verbose=1)"
   ]
  },
  {
   "cell_type": "code",
   "execution_count": null,
   "metadata": {},
   "outputs": [],
   "source": [
    "model.save(ARCH_NAME + '.h5')"
   ]
  },
  {
   "cell_type": "code",
   "execution_count": 8,
   "metadata": {},
   "outputs": [],
   "source": [
    "model = keras.models.load_model(ARCH_NAME + '.h5')"
   ]
  },
  {
   "cell_type": "code",
   "execution_count": 9,
   "metadata": {},
   "outputs": [],
   "source": [
    "test_pred_encoded = model.predict(test_data)"
   ]
  },
  {
   "cell_type": "code",
   "execution_count": 12,
   "metadata": {},
   "outputs": [],
   "source": [
    "test_pred = test_pred_encoded.argmax(axis=-1)"
   ]
  },
  {
   "cell_type": "code",
   "execution_count": 13,
   "metadata": {},
   "outputs": [],
   "source": [
    "test_labels_ = test_labels.argmax(axis=-1)"
   ]
  },
  {
   "cell_type": "code",
   "execution_count": 14,
   "metadata": {},
   "outputs": [
    {
     "name": "stdout",
     "output_type": "stream",
     "text": [
      "6835/6835 [==============================] - 7s 999us/step\n"
     ]
    }
   ],
   "source": [
    "test_loss, test_acc = model.evaluate(test_data, test_labels)"
   ]
  },
  {
   "cell_type": "code",
   "execution_count": 15,
   "metadata": {},
   "outputs": [
    {
     "data": {
      "text/plain": [
       "0.8769568397515694"
      ]
     },
     "execution_count": 15,
     "metadata": {},
     "output_type": "execute_result"
    }
   ],
   "source": [
    "test_acc"
   ]
  },
  {
   "cell_type": "code",
   "execution_count": 16,
   "metadata": {},
   "outputs": [
    {
     "data": {
      "text/plain": [
       "0.5219248884009373"
      ]
     },
     "execution_count": 16,
     "metadata": {},
     "output_type": "execute_result"
    }
   ],
   "source": [
    "test_loss"
   ]
  },
  {
   "cell_type": "code",
   "execution_count": 17,
   "metadata": {},
   "outputs": [
    {
     "data": {
      "image/png": "[encoded data removed]",
      "text/plain": [
       "<Figure size 1440x1440 with 2 Axes>"
      ]
     },
     "metadata": {},
     "output_type": "display_data"
    }
   ],
   "source": [
    "plt.figure(figsize=(20, 20))\n",
    "plt.imshow(confusion_matrix(test_labels_, test_pred))\n",
    "plt.xticks(range(30), LABELS)\n",
    "plt.yticks(range(30), LABELS)\n",
    "plt.colorbar()\n",
    "plt.show()"
   ]
  },
  {
   "cell_type": "code",
   "execution_count": null,
   "metadata": {},
   "outputs": [],
   "source": []
  }
 ],
 "metadata": {
  "kernelspec": {
   "display_name": "Python 3",
   "language": "python",
   "name": "python3"
  },
  "language_info": {
   "codemirror_mode": {
    "name": "ipython",
    "version": 3
   },
   "file_extension": ".py",
   "mimetype": "text/x-python",
   "name": "python",
   "nbconvert_exporter": "python",
   "pygments_lexer": "ipython3",
   "version": "3.6.3"
  }
 },
 "nbformat": 4,
 "nbformat_minor": 2
}
