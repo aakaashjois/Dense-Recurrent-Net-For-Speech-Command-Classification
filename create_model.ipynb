{
 "cells": [
  {
   "cell_type": "code",
   "execution_count": null,
   "metadata": {},
   "outputs": [],
   "source": [
    "import os\n",
    "import numpy as np\n",
    "import tensorflow as tf\n",
    "from sklearn.preprocessing import LabelEncoder"
   ]
  },
  {
   "cell_type": "code",
   "execution_count": null,
   "metadata": {},
   "outputs": [],
   "source": [
    "keras = tf.keras\n",
    "Input = keras.layers.Input\n",
    "Conv2D = keras.layers.Conv2D\n",
    "Flatten = keras.layers.Flatten\n",
    "Dense = keras.layers.Dense\n",
    "GlobalAveragePooling2D = keras.layers.GlobalAveragePooling2D\n",
    "Model = keras.Model"
   ]
  },
  {
   "cell_type": "code",
   "execution_count": null,
   "metadata": {},
   "outputs": [],
   "source": [
    "train_data = np.load('./data/train_data.npy')\n",
    "train_labels = np.load('./data/train_labels.npy')\n",
    "\n",
    "validation_data = np.load('./data/validation_data.npy')\n",
    "validation_labels = np.load('./data/validation_labels.npy')\n",
    "\n",
    "test_data = np.load('./data/test_data.npy')\n",
    "test_labels = np.load('./data/test_labels.npy')"
   ]
  },
  {
   "cell_type": "code",
   "execution_count": null,
   "metadata": {},
   "outputs": [],
   "source": [
    "# One-hot encode the labels\n",
    "PATH_TO_DATA = os.path.join(os.getcwd(), 'data')\n",
    "PATH_TO_AUDIO = os.path.join(PATH_TO_DATA, 'audio')\n",
    "LABELS = os.listdir(PATH_TO_AUDIO)\n",
    "NUM_CLASSES = len(LABELS)\n",
    "label_encoder = LabelEncoder().fit(LABELS)\n",
    "\n",
    "train_labels = keras.utils.to_categorical(label_encoder.transform(train_labels), num_classes=NUM_CLASSES)\n",
    "validation_labels = keras.utils.to_categorical(label_encoder.transform(validation_labels), num_classes=NUM_CLASSES)\n",
    "test_labels = keras.utils.to_categorical(label_encoder.transform(test_labels), num_classes=NUM_CLASSES)"
   ]
  },
  {
   "cell_type": "code",
   "execution_count": null,
   "metadata": {},
   "outputs": [],
   "source": [
    "# Reshape data for compatibility with Keras\n",
    "train_data = train_data.reshape((*train_data.shape, 1))\n",
    "validation_data = validation_data.reshape((*validation_data.shape, 1))\n",
    "test_data = test_data.reshape((*test_data.shape, 1))"
   ]
  },
  {
   "cell_type": "markdown",
   "metadata": {},
   "source": [
    "#### Basic CNN Model"
   ]
  },
  {
   "cell_type": "code",
   "execution_count": null,
   "metadata": {},
   "outputs": [],
   "source": [
    "# tf.reset_default_graph()"
   ]
  },
  {
   "cell_type": "code",
   "execution_count": null,
   "metadata": {},
   "outputs": [],
   "source": [
    "input_layer = Input(shape=train_data.shape[1:])\n",
    "conv_1 = Conv2D(filters=48, kernel_size=(8, 3), activation='relu')(input_layer)\n",
    "conv_2 = Conv2D(filters=48, kernel_size=(8, 3), activation='relu')(conv_1)\n",
    "conv_3 = Conv2D(filters=36, kernel_size=(8, 3), activation='relu')(conv_2)\n",
    "conv_4 = Conv2D(filters=36, kernel_size=(8, 3), activation='relu')(conv_3)\n",
    "# gap_1 = GlobalAveragePooling2D()(conv_4)\n",
    "flatten = Flatten()(conv_4)\n",
    "dense = Dense(30, activation='softmax')(flatten)\n",
    "model = Model(inputs=input_layer, outputs=dense)\n",
    "\n",
    "# Display model summary for reference\n",
    "model.summary()"
   ]
  },
  {
   "cell_type": "markdown",
   "metadata": {},
   "source": [
    "Define callbacks"
   ]
  },
  {
   "cell_type": "code",
   "execution_count": null,
   "metadata": {},
   "outputs": [],
   "source": [
    "early_stop_callback = keras.callbacks.EarlyStopping(monitor='val_loss', \n",
    "                                                    min_delta=0, \n",
    "                                                    patience=10, \n",
    "                                                    verbose=0, \n",
    "                                                    mode='auto')\n",
    "reduce_lr_plateau_callback = keras.callbacks.ReduceLROnPlateau(monitor='val_loss', \n",
    "                                                               factor=0.1, \n",
    "                                                               patience=5, \n",
    "                                                               verbose=0, \n",
    "                                                               mode='auto', \n",
    "                                                               cooldown=0, min_lr=0)"
   ]
  },
  {
   "cell_type": "code",
   "execution_count": null,
   "metadata": {},
   "outputs": [],
   "source": [
    "model.compile(optimizer='adam', loss='categorical_crossentropy', metrics=['accuracy'])\n",
    "model.fit(train_data, \n",
    "          train_labels, \n",
    "          epochs=100, \n",
    "          batch_size=1024, \n",
    "          validation_data=(validation_data, validation_labels), \n",
    "          shuffle=True,\n",
    "          callbacks=[early_stop_callback, reduce_lr_plateau_callback],\n",
    "          verbose=1)"
   ]
  },
  {
   "cell_type": "code",
   "execution_count": null,
   "metadata": {},
   "outputs": [],
   "source": [
    "model.save('arch2_100e_1024b')"
   ]
  },
  {
   "cell_type": "code",
   "execution_count": null,
   "metadata": {},
   "outputs": [],
   "source": []
  }
 ],
 "metadata": {
  "kernelspec": {
   "display_name": "Python 3",
   "language": "python",
   "name": "python3"
  },
  "language_info": {
   "codemirror_mode": {
    "name": "ipython",
    "version": 3
   },
   "file_extension": ".py",
   "mimetype": "text/x-python",
   "name": "python",
   "nbconvert_exporter": "python",
   "pygments_lexer": "ipython3",
   "version": "3.6.3"
  }
 },
 "nbformat": 4,
 "nbformat_minor": 2
}
