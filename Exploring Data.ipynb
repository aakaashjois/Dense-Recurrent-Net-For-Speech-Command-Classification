{
 "cells": [
  {
   "cell_type": "code",
   "execution_count": 5,
   "metadata": {},
   "outputs": [
    {
     "data": {
      "text/html": [
       "<script>requirejs.config({paths: { 'plotly': ['https://cdn.plot.ly/plotly-latest.min']},});if(!window.Plotly) {{require(['plotly'],function(plotly) {window.Plotly=plotly;});}}</script>"
      ],
      "text/vnd.plotly.v1+html": [
       "<script>requirejs.config({paths: { 'plotly': ['https://cdn.plot.ly/plotly-latest.min']},});if(!window.Plotly) {{require(['plotly'],function(plotly) {window.Plotly=plotly;});}}</script>"
      ]
     },
     "metadata": {},
     "output_type": "display_data"
    }
   ],
   "source": [
    "import numpy as np\n",
    "import librosa\n",
    "import librosa.display\n",
    "import os\n",
    "from tqdm import tqdm\n",
    "import pandas as pd\n",
    "import plotly.tools as tools\n",
    "import plotly.offline as py\n",
    "import plotly.graph_objs as go\n",
    "import matplotlib.pyplot as plt\n",
    "py.init_notebook_mode(connected=True)"
   ]
  },
  {
   "cell_type": "code",
   "execution_count": 6,
   "metadata": {},
   "outputs": [
    {
     "name": "stderr",
     "output_type": "stream",
     "text": [
      "100%|███████████████████████████████████████████████████████████████████████████████████████████████████████████████████████████████| 30/30 [04:06<00:00,  8.20s/it]\n"
     ]
    }
   ],
   "source": [
    "all_categories = os.listdir(path='./data/audio')\n",
    "all_data = pd.DataFrame({'category_names': all_categories})\n",
    "sample_count_per_category = []\n",
    "file_count_per_category = []\n",
    "for category in tqdm(all_categories):\n",
    "    audio_files_per_category = os.listdir(path='./data/audio/' + category)\n",
    "    file_count_per_category.append(len(audio_files_per_category))\n",
    "    cum_sum_samples = 0\n",
    "    for audio_file_name in audio_files_per_category:\n",
    "        audio_file, _ = librosa.core.load('./data/audio/' + category + '/' + audio_file_name, sr=16000)\n",
    "        cum_sum_samples += len(audio_file)\n",
    "    sample_count_per_category.append(cum_sum_samples)\n",
    "all_data['files_per_category'] = file_count_per_category\n",
    "all_data['samples_per_category'] = sample_count_per_category"
   ]
  },
  {
   "cell_type": "code",
   "execution_count": 8,
   "metadata": {},
   "outputs": [
    {
     "data": {
      "text/html": [
       "<div>\n",
       "<style scoped>\n",
       "    .dataframe tbody tr th:only-of-type {\n",
       "        vertical-align: middle;\n",
       "    }\n",
       "\n",
       "    .dataframe tbody tr th {\n",
       "        vertical-align: top;\n",
       "    }\n",
       "\n",
       "    .dataframe thead th {\n",
       "        text-align: right;\n",
       "    }\n",
       "</style>\n",
       "<table border=\"1\" class=\"dataframe\">\n",
       "  <thead>\n",
       "    <tr style=\"text-align: right;\">\n",
       "      <th></th>\n",
       "      <th>category_names</th>\n",
       "      <th>files_per_category</th>\n",
       "      <th>samples_per_category</th>\n",
       "    </tr>\n",
       "  </thead>\n",
       "  <tbody>\n",
       "    <tr>\n",
       "      <th>0</th>\n",
       "      <td>bed</td>\n",
       "      <td>1713</td>\n",
       "      <td>26900872</td>\n",
       "    </tr>\n",
       "    <tr>\n",
       "      <th>1</th>\n",
       "      <td>bird</td>\n",
       "      <td>1731</td>\n",
       "      <td>27166569</td>\n",
       "    </tr>\n",
       "    <tr>\n",
       "      <th>2</th>\n",
       "      <td>cat</td>\n",
       "      <td>1733</td>\n",
       "      <td>27200350</td>\n",
       "    </tr>\n",
       "    <tr>\n",
       "      <th>3</th>\n",
       "      <td>dog</td>\n",
       "      <td>1746</td>\n",
       "      <td>27452612</td>\n",
       "    </tr>\n",
       "    <tr>\n",
       "      <th>4</th>\n",
       "      <td>down</td>\n",
       "      <td>2359</td>\n",
       "      <td>37253938</td>\n",
       "    </tr>\n",
       "  </tbody>\n",
       "</table>\n",
       "</div>"
      ],
      "text/plain": [
       "  category_names  files_per_category  samples_per_category\n",
       "0            bed                1713              26900872\n",
       "1           bird                1731              27166569\n",
       "2            cat                1733              27200350\n",
       "3            dog                1746              27452612\n",
       "4           down                2359              37253938"
      ]
     },
     "execution_count": 8,
     "metadata": {},
     "output_type": "execute_result"
    }
   ],
   "source": [
    "all_data.head()"
   ]
  },
  {
   "cell_type": "code",
   "execution_count": 36,
   "metadata": {},
   "outputs": [
    {
     "name": "stdout",
     "output_type": "stream",
     "text": [
      "Total number of cateogies: 30\n",
      "Total number of audio files: 64721\n"
     ]
    }
   ],
   "source": [
    "print('Total number of cateogies: {}'.format(len(all_categories)))\n",
    "print('Total number of audio files: {}'.format(len(len_of_samples)))"
   ]
  },
  {
   "cell_type": "code",
   "execution_count": 38,
   "metadata": {},
   "outputs": [
    {
     "data": {
      "application/vnd.plotly.v1+json": {
       "data": [
        {
         "type": "bar",
         "x": [
          "bed",
          "bird",
          "cat",
          "dog",
          "down",
          "eight",
          "five",
          "four",
          "go",
          "happy",
          "house",
          "left",
          "marvin",
          "nine",
          "no",
          "off",
          "on",
          "one",
          "right",
          "seven",
          "sheila",
          "six",
          "stop",
          "three",
          "tree",
          "two",
          "up",
          "wow",
          "yes",
          "zero"
         ],
         "y": [
          1713,
          1731,
          1733,
          1746,
          2359,
          2352,
          2357,
          2372,
          2372,
          1742,
          1750,
          2353,
          1746,
          2364,
          2375,
          2357,
          2367,
          2370,
          2367,
          2377,
          1734,
          2369,
          2380,
          2356,
          1733,
          2373,
          2375,
          1745,
          2377,
          2376
         ]
        }
       ],
       "layout": {
        "title": "Number of audio files for each category",
        "xaxis": {
         "title": "Categories"
        },
        "yaxis": {
         "range": [
          1700,
          2400
         ],
         "title": "Count"
        }
       }
      },
      "text/html": [
       "<div id=\"361fe6a1-13c0-45e5-b25e-ccdf7b348e71\" style=\"height: 525px; width: 100%;\" class=\"plotly-graph-div\"></div><script type=\"text/javascript\">require([\"plotly\"], function(Plotly) { window.PLOTLYENV=window.PLOTLYENV || {};window.PLOTLYENV.BASE_URL=\"https://plot.ly\";Plotly.newPlot(\"361fe6a1-13c0-45e5-b25e-ccdf7b348e71\", [{\"type\": \"bar\", \"x\": [\"bed\", \"bird\", \"cat\", \"dog\", \"down\", \"eight\", \"five\", \"four\", \"go\", \"happy\", \"house\", \"left\", \"marvin\", \"nine\", \"no\", \"off\", \"on\", \"one\", \"right\", \"seven\", \"sheila\", \"six\", \"stop\", \"three\", \"tree\", \"two\", \"up\", \"wow\", \"yes\", \"zero\"], \"y\": [1713, 1731, 1733, 1746, 2359, 2352, 2357, 2372, 2372, 1742, 1750, 2353, 1746, 2364, 2375, 2357, 2367, 2370, 2367, 2377, 1734, 2369, 2380, 2356, 1733, 2373, 2375, 1745, 2377, 2376]}], {\"title\": \"Number of audio files for each category\", \"xaxis\": {\"title\": \"Categories\"}, \"yaxis\": {\"title\": \"Count\", \"range\": [1700, 2400]}}, {\"showLink\": true, \"linkText\": \"Export to plot.ly\"})});</script>"
      ],
      "text/vnd.plotly.v1+html": [
       "<div id=\"361fe6a1-13c0-45e5-b25e-ccdf7b348e71\" style=\"height: 525px; width: 100%;\" class=\"plotly-graph-div\"></div><script type=\"text/javascript\">require([\"plotly\"], function(Plotly) { window.PLOTLYENV=window.PLOTLYENV || {};window.PLOTLYENV.BASE_URL=\"https://plot.ly\";Plotly.newPlot(\"361fe6a1-13c0-45e5-b25e-ccdf7b348e71\", [{\"type\": \"bar\", \"x\": [\"bed\", \"bird\", \"cat\", \"dog\", \"down\", \"eight\", \"five\", \"four\", \"go\", \"happy\", \"house\", \"left\", \"marvin\", \"nine\", \"no\", \"off\", \"on\", \"one\", \"right\", \"seven\", \"sheila\", \"six\", \"stop\", \"three\", \"tree\", \"two\", \"up\", \"wow\", \"yes\", \"zero\"], \"y\": [1713, 1731, 1733, 1746, 2359, 2352, 2357, 2372, 2372, 1742, 1750, 2353, 1746, 2364, 2375, 2357, 2367, 2370, 2367, 2377, 1734, 2369, 2380, 2356, 1733, 2373, 2375, 1745, 2377, 2376]}], {\"title\": \"Number of audio files for each category\", \"xaxis\": {\"title\": \"Categories\"}, \"yaxis\": {\"title\": \"Count\", \"range\": [1700, 2400]}}, {\"showLink\": true, \"linkText\": \"Export to plot.ly\"})});</script>"
      ]
     },
     "metadata": {},
     "output_type": "display_data"
    }
   ],
   "source": [
    "py.iplot(dict(data=[go.Bar(x=all_categories, y=count)], \n",
    "              layout=go.Layout(title='Number of audio files for each category',\n",
    "                               xaxis=dict(title='Categories'),\n",
    "                               yaxis=dict(title='Count', range=[1700, 2400]))))"
   ]
  },
  {
   "cell_type": "code",
   "execution_count": 44,
   "metadata": {},
   "outputs": [
    {
     "data": {
      "application/vnd.plotly.v1+json": {
       "data": [
        {
         "type": "bar",
         "x": [
          "bed",
          "bird",
          "cat",
          "dog",
          "down",
          "eight",
          "five",
          "four",
          "go",
          "happy",
          "house",
          "left",
          "marvin",
          "nine",
          "no",
          "off",
          "on",
          "one",
          "right",
          "seven",
          "sheila",
          "six",
          "stop",
          "three",
          "tree",
          "two",
          "up",
          "wow",
          "yes",
          "zero"
         ],
         "y": [
          26900872,
          27166569,
          27200350,
          27452612,
          37253938,
          37039643,
          37232829,
          37410587,
          37195890,
          27422915,
          27541254,
          37201274,
          27539223,
          37351071,
          37308817,
          37201365,
          37184190,
          37227688,
          37324944,
          37530207,
          27406211,
          37514465,
          37534076,
          37159726,
          27211598,
          37363179,
          37202801,
          27379840,
          37475842,
          37636498
         ]
        }
       ],
       "layout": {
        "title": "Number of audio samples for each category",
        "xaxis": {
         "title": "Categories"
        },
        "yaxis": {
         "range": [
          25000000,
          38000000
         ],
         "title": "Number of samples"
        }
       }
      },
      "text/html": [
       "<div id=\"b429c986-28aa-4f1d-a93b-54bc94009cb5\" style=\"height: 525px; width: 100%;\" class=\"plotly-graph-div\"></div><script type=\"text/javascript\">require([\"plotly\"], function(Plotly) { window.PLOTLYENV=window.PLOTLYENV || {};window.PLOTLYENV.BASE_URL=\"https://plot.ly\";Plotly.newPlot(\"b429c986-28aa-4f1d-a93b-54bc94009cb5\", [{\"type\": \"bar\", \"x\": [\"bed\", \"bird\", \"cat\", \"dog\", \"down\", \"eight\", \"five\", \"four\", \"go\", \"happy\", \"house\", \"left\", \"marvin\", \"nine\", \"no\", \"off\", \"on\", \"one\", \"right\", \"seven\", \"sheila\", \"six\", \"stop\", \"three\", \"tree\", \"two\", \"up\", \"wow\", \"yes\", \"zero\"], \"y\": [26900872, 27166569, 27200350, 27452612, 37253938, 37039643, 37232829, 37410587, 37195890, 27422915, 27541254, 37201274, 27539223, 37351071, 37308817, 37201365, 37184190, 37227688, 37324944, 37530207, 27406211, 37514465, 37534076, 37159726, 27211598, 37363179, 37202801, 27379840, 37475842, 37636498]}], {\"title\": \"Number of audio samples for each category\", \"xaxis\": {\"title\": \"Categories\"}, \"yaxis\": {\"title\": \"Number of samples\", \"range\": [25000000, 38000000]}}, {\"showLink\": true, \"linkText\": \"Export to plot.ly\"})});</script>"
      ],
      "text/vnd.plotly.v1+html": [
       "<div id=\"b429c986-28aa-4f1d-a93b-54bc94009cb5\" style=\"height: 525px; width: 100%;\" class=\"plotly-graph-div\"></div><script type=\"text/javascript\">require([\"plotly\"], function(Plotly) { window.PLOTLYENV=window.PLOTLYENV || {};window.PLOTLYENV.BASE_URL=\"https://plot.ly\";Plotly.newPlot(\"b429c986-28aa-4f1d-a93b-54bc94009cb5\", [{\"type\": \"bar\", \"x\": [\"bed\", \"bird\", \"cat\", \"dog\", \"down\", \"eight\", \"five\", \"four\", \"go\", \"happy\", \"house\", \"left\", \"marvin\", \"nine\", \"no\", \"off\", \"on\", \"one\", \"right\", \"seven\", \"sheila\", \"six\", \"stop\", \"three\", \"tree\", \"two\", \"up\", \"wow\", \"yes\", \"zero\"], \"y\": [26900872, 27166569, 27200350, 27452612, 37253938, 37039643, 37232829, 37410587, 37195890, 27422915, 27541254, 37201274, 27539223, 37351071, 37308817, 37201365, 37184190, 37227688, 37324944, 37530207, 27406211, 37514465, 37534076, 37159726, 27211598, 37363179, 37202801, 27379840, 37475842, 37636498]}], {\"title\": \"Number of audio samples for each category\", \"xaxis\": {\"title\": \"Categories\"}, \"yaxis\": {\"title\": \"Number of samples\", \"range\": [25000000, 38000000]}}, {\"showLink\": true, \"linkText\": \"Export to plot.ly\"})});</script>"
      ]
     },
     "metadata": {},
     "output_type": "display_data"
    }
   ],
   "source": [
    "py.iplot(dict(data=[go.Bar(x=all_categories, y=samples_per_category)], \n",
    "              layout=go.Layout(title='Number of audio samples for each category',\n",
    "                               xaxis=dict(title='Categories'),\n",
    "                               yaxis=dict(title='Number of samples', range=[25000000, 38000000]))))"
   ]
  },
  {
   "cell_type": "code",
   "execution_count": 34,
   "metadata": {},
   "outputs": [
    {
     "data": {
      "application/vnd.plotly.v1+json": {
       "data": [
        {
         "labels": [
          "Audio files with less than 16000 samples",
          "Audio files with 16000 samples"
         ],
         "type": "pie",
         "values": [
          6469,
          58252
         ]
        }
       ],
       "layout": {}
      },
      "text/html": [
       "<div id=\"7a781a1d-a4f2-4c05-8833-d9ffdfc7358f\" style=\"height: 525px; width: 100%;\" class=\"plotly-graph-div\"></div><script type=\"text/javascript\">require([\"plotly\"], function(Plotly) { window.PLOTLYENV=window.PLOTLYENV || {};window.PLOTLYENV.BASE_URL=\"https://plot.ly\";Plotly.newPlot(\"7a781a1d-a4f2-4c05-8833-d9ffdfc7358f\", [{\"type\": \"pie\", \"labels\": [\"Audio files with less than 16000 samples\", \"Audio files with 16000 samples\"], \"values\": [6469, 58252]}], {}, {\"showLink\": true, \"linkText\": \"Export to plot.ly\"})});</script>"
      ],
      "text/vnd.plotly.v1+html": [
       "<div id=\"7a781a1d-a4f2-4c05-8833-d9ffdfc7358f\" style=\"height: 525px; width: 100%;\" class=\"plotly-graph-div\"></div><script type=\"text/javascript\">require([\"plotly\"], function(Plotly) { window.PLOTLYENV=window.PLOTLYENV || {};window.PLOTLYENV.BASE_URL=\"https://plot.ly\";Plotly.newPlot(\"7a781a1d-a4f2-4c05-8833-d9ffdfc7358f\", [{\"type\": \"pie\", \"labels\": [\"Audio files with less than 16000 samples\", \"Audio files with 16000 samples\"], \"values\": [6469, 58252]}], {}, {\"showLink\": true, \"linkText\": \"Export to plot.ly\"})});</script>"
      ]
     },
     "metadata": {},
     "output_type": "display_data"
    }
   ],
   "source": [
    "labels = ['Audio files with less than 16000 samples', 'Audio files with 16000 samples']\n",
    "values = [sample_length_count[:-1].sum(), sample_length_count[-1]]\n",
    "py.iplot([go.Pie(labels=labels, values=values)])"
   ]
  },
  {
   "cell_type": "code",
   "execution_count": 47,
   "metadata": {},
   "outputs": [],
   "source": [
    "mel_spec = lambda x: librosa.power_to_db(librosa.feature.melspectrogram(x,\n",
    "                                                                        sr=16000,\n",
    "                                                                        n_fft=1024,\n",
    "                                                                        hop_length=256,\n",
    "                                                                        fmax=3000),\n",
    "                                         ref=np.max)"
   ]
  },
  {
   "cell_type": "code",
   "execution_count": 56,
   "metadata": {},
   "outputs": [],
   "source": [
    "all_categories_mel = []\n",
    "for category in all_categories:\n",
    "        audio_file = os.listdir(path='./data/audio/' + category)[0]\n",
    "        audio, _ = librosa.core.load('./data/audio/' + category + '/' + audio_file, sr=16000)\n",
    "        spec = mel_spec(audio)\n",
    "        all_categories_mel.append(spec)"
   ]
  }
 ],
 "metadata": {
  "kernelspec": {
   "display_name": "Python 3",
   "language": "python",
   "name": "python3"
  },
  "language_info": {
   "codemirror_mode": {
    "name": "ipython",
    "version": 3
   },
   "file_extension": ".py",
   "mimetype": "text/x-python",
   "name": "python",
   "nbconvert_exporter": "python",
   "pygments_lexer": "ipython3",
   "version": "3.6.3"
  }
 },
 "nbformat": 4,
 "nbformat_minor": 2
}
