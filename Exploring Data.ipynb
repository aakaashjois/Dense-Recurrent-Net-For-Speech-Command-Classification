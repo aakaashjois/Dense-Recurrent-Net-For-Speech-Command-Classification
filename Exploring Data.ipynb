{
 "cells": [
  {
   "cell_type": "code",
   "execution_count": 1,
   "metadata": {},
   "outputs": [
    {
     "data": {
      "text/html": [
       "<script>requirejs.config({paths: { 'plotly': ['https://cdn.plot.ly/plotly-latest.min']},});if(!window.Plotly) {{require(['plotly'],function(plotly) {window.Plotly=plotly;});}}</script>"
      ],
      "text/vnd.plotly.v1+html": [
       "<script>requirejs.config({paths: { 'plotly': ['https://cdn.plot.ly/plotly-latest.min']},});if(!window.Plotly) {{require(['plotly'],function(plotly) {window.Plotly=plotly;});}}</script>"
      ]
     },
     "metadata": {},
     "output_type": "display_data"
    }
   ],
   "source": [
    "import numpy as np\n",
    "import librosa\n",
    "import librosa.display\n",
    "import os\n",
    "from tqdm import tqdm\n",
    "import pandas as pd\n",
    "import plotly.tools as tools\n",
    "import plotly.offline as py\n",
    "import plotly.graph_objs as go\n",
    "import matplotlib.pyplot as plt\n",
    "py.init_notebook_mode(connected=True)"
   ]
  },
  {
   "cell_type": "code",
   "execution_count": 2,
   "metadata": {},
   "outputs": [
    {
     "name": "stderr",
     "output_type": "stream",
     "text": [
      "100%|███████████████████████████████████████████████████████████████████████████████████████████████████████████████████████████████| 30/30 [09:39<00:00, 19.33s/it]\n"
     ]
    }
   ],
   "source": [
    "INVALID_LABELS = [\"bed\", \"bird\", \"cat\", \"dog\", \"happy\", \"house\", \"marvin\", \"sheila\", \"tree\", \"wow\"]\n",
    "all_categories = os.listdir(path='./data/audio')\n",
    "all_data = pd.DataFrame({'category_names': all_categories})\n",
    "sample_count_per_category = []\n",
    "file_count_per_category = []\n",
    "for category in tqdm(all_categories):\n",
    "    audio_files_per_category = os.listdir(path='./data/audio/' + category)\n",
    "    file_count_per_category.append(len(audio_files_per_category))\n",
    "    cum_sum_samples = 0\n",
    "    for audio_file_name in audio_files_per_category:\n",
    "        audio_file, _ = librosa.core.load('./data/audio/' + category + '/' + audio_file_name, sr=16000)\n",
    "        cum_sum_samples += len(audio_file)\n",
    "    sample_count_per_category.append(cum_sum_samples)\n",
    "all_data['files_per_category'] = file_count_per_category\n",
    "all_data['samples_per_category'] = sample_count_per_category"
   ]
  },
  {
   "cell_type": "code",
   "execution_count": 21,
   "metadata": {},
   "outputs": [],
   "source": [
    "all_categories = np.array(all_categories)\n",
    "file_count_per_category = np.array(file_count_per_category)"
   ]
  },
  {
   "cell_type": "code",
   "execution_count": 5,
   "metadata": {},
   "outputs": [],
   "source": [
    "all_categories_masked = all_categories\n",
    "for label in INVALID_LABELS:\n",
    "    all_categories_masked = np.core.defchararray.replace(all_categories_masked, old=label, new='unknown')"
   ]
  },
  {
   "cell_type": "code",
   "execution_count": 16,
   "metadata": {},
   "outputs": [],
   "source": [
    "files_for_unknown = file_count_per_category[np.where(np.core.defchararray.equal(all_categories_masked, 'unknown') == True)].sum()"
   ]
  },
  {
   "cell_type": "code",
   "execution_count": 24,
   "metadata": {},
   "outputs": [],
   "source": [
    "all_other_categories = all_categories[np.where(np.core.defchararray.equal(all_categories_masked, 'unknown') == False)]\n",
    "files_for_other_categories = file_count_per_category[np.where(np.core.defchararray.equal(all_categories_masked, 'unknown') == False)]"
   ]
  },
  {
   "cell_type": "code",
   "execution_count": 36,
   "metadata": {},
   "outputs": [
    {
     "name": "stdout",
     "output_type": "stream",
     "text": [
      "Total number of cateogies: 30\n",
      "Total number of audio files: 64721\n"
     ]
    }
   ],
   "source": [
    "print('Total number of categories: {}'.format(len(all_categories)))\n",
    "print('Total number of audio files: {}'.format(len(len_of_samples)))"
   ]
  },
  {
   "cell_type": "code",
   "execution_count": 42,
   "metadata": {},
   "outputs": [
    {
     "data": {
      "application/vnd.plotly.v1+json": {
       "data": [
        {
         "marker": {
          "color": [
           "rgb(222,45,38)",
           "rgb(222,45,38)",
           "rgb(222,45,38)",
           "rgb(222,45,38)",
           "rgb(49,130,189)",
           "rgb(49,130,189)",
           "rgb(49,130,189)",
           "rgb(49,130,189)",
           "rgb(49,130,189)",
           "rgb(222,45,38)",
           "rgb(222,45,38)",
           "rgb(49,130,189)",
           "rgb(222,45,38)",
           "rgb(49,130,189)",
           "rgb(49,130,189)",
           "rgb(49,130,189)",
           "rgb(49,130,189)",
           "rgb(49,130,189)",
           "rgb(49,130,189)",
           "rgb(49,130,189)",
           "rgb(222,45,38)",
           "rgb(49,130,189)",
           "rgb(49,130,189)",
           "rgb(49,130,189)",
           "rgb(222,45,38)",
           "rgb(49,130,189)",
           "rgb(49,130,189)",
           "rgb(222,45,38)",
           "rgb(49,130,189)",
           "rgb(49,130,189)"
          ]
         },
         "type": "bar",
         "x": [
          "bed",
          "bird",
          "cat",
          "dog",
          "down",
          "eight",
          "five",
          "four",
          "go",
          "happy",
          "house",
          "left",
          "marvin",
          "nine",
          "no",
          "off",
          "on",
          "one",
          "right",
          "seven",
          "sheila",
          "six",
          "stop",
          "three",
          "tree",
          "two",
          "up",
          "wow",
          "yes",
          "zero"
         ],
         "y": [
          1713,
          1731,
          1733,
          1746,
          2359,
          2352,
          2357,
          2372,
          2372,
          1742,
          1750,
          2353,
          1746,
          2364,
          2375,
          2357,
          2367,
          2370,
          2367,
          2377,
          1734,
          2369,
          2380,
          2356,
          1733,
          2373,
          2375,
          1745,
          2377,
          2376
         ]
        }
       ],
       "layout": {
        "title": "Number of audio files for each category",
        "xaxis": {
         "title": "Categories"
        },
        "yaxis": {
         "range": [
          1700,
          2400
         ],
         "title": "Count"
        }
       }
      },
      "text/html": [
       "<div id=\"ee6b1083-9ea5-4b93-a52a-81bb719bad0e\" style=\"height: 525px; width: 100%;\" class=\"plotly-graph-div\"></div><script type=\"text/javascript\">require([\"plotly\"], function(Plotly) { window.PLOTLYENV=window.PLOTLYENV || {};window.PLOTLYENV.BASE_URL=\"https://plot.ly\";Plotly.newPlot(\"ee6b1083-9ea5-4b93-a52a-81bb719bad0e\", [{\"type\": \"bar\", \"x\": [\"bed\", \"bird\", \"cat\", \"dog\", \"down\", \"eight\", \"five\", \"four\", \"go\", \"happy\", \"house\", \"left\", \"marvin\", \"nine\", \"no\", \"off\", \"on\", \"one\", \"right\", \"seven\", \"sheila\", \"six\", \"stop\", \"three\", \"tree\", \"two\", \"up\", \"wow\", \"yes\", \"zero\"], \"y\": [1713, 1731, 1733, 1746, 2359, 2352, 2357, 2372, 2372, 1742, 1750, 2353, 1746, 2364, 2375, 2357, 2367, 2370, 2367, 2377, 1734, 2369, 2380, 2356, 1733, 2373, 2375, 1745, 2377, 2376], \"marker\": {\"color\": [\"rgb(222,45,38)\", \"rgb(222,45,38)\", \"rgb(222,45,38)\", \"rgb(222,45,38)\", \"rgb(49,130,189)\", \"rgb(49,130,189)\", \"rgb(49,130,189)\", \"rgb(49,130,189)\", \"rgb(49,130,189)\", \"rgb(222,45,38)\", \"rgb(222,45,38)\", \"rgb(49,130,189)\", \"rgb(222,45,38)\", \"rgb(49,130,189)\", \"rgb(49,130,189)\", \"rgb(49,130,189)\", \"rgb(49,130,189)\", \"rgb(49,130,189)\", \"rgb(49,130,189)\", \"rgb(49,130,189)\", \"rgb(222,45,38)\", \"rgb(49,130,189)\", \"rgb(49,130,189)\", \"rgb(49,130,189)\", \"rgb(222,45,38)\", \"rgb(49,130,189)\", \"rgb(49,130,189)\", \"rgb(222,45,38)\", \"rgb(49,130,189)\", \"rgb(49,130,189)\"]}}], {\"title\": \"Number of audio files for each category\", \"xaxis\": {\"title\": \"Categories\"}, \"yaxis\": {\"title\": \"Count\", \"range\": [1700, 2400]}}, {\"showLink\": true, \"linkText\": \"Export to plot.ly\"})});</script>"
      ],
      "text/vnd.plotly.v1+html": [
       "<div id=\"ee6b1083-9ea5-4b93-a52a-81bb719bad0e\" style=\"height: 525px; width: 100%;\" class=\"plotly-graph-div\"></div><script type=\"text/javascript\">require([\"plotly\"], function(Plotly) { window.PLOTLYENV=window.PLOTLYENV || {};window.PLOTLYENV.BASE_URL=\"https://plot.ly\";Plotly.newPlot(\"ee6b1083-9ea5-4b93-a52a-81bb719bad0e\", [{\"type\": \"bar\", \"x\": [\"bed\", \"bird\", \"cat\", \"dog\", \"down\", \"eight\", \"five\", \"four\", \"go\", \"happy\", \"house\", \"left\", \"marvin\", \"nine\", \"no\", \"off\", \"on\", \"one\", \"right\", \"seven\", \"sheila\", \"six\", \"stop\", \"three\", \"tree\", \"two\", \"up\", \"wow\", \"yes\", \"zero\"], \"y\": [1713, 1731, 1733, 1746, 2359, 2352, 2357, 2372, 2372, 1742, 1750, 2353, 1746, 2364, 2375, 2357, 2367, 2370, 2367, 2377, 1734, 2369, 2380, 2356, 1733, 2373, 2375, 1745, 2377, 2376], \"marker\": {\"color\": [\"rgb(222,45,38)\", \"rgb(222,45,38)\", \"rgb(222,45,38)\", \"rgb(222,45,38)\", \"rgb(49,130,189)\", \"rgb(49,130,189)\", \"rgb(49,130,189)\", \"rgb(49,130,189)\", \"rgb(49,130,189)\", \"rgb(222,45,38)\", \"rgb(222,45,38)\", \"rgb(49,130,189)\", \"rgb(222,45,38)\", \"rgb(49,130,189)\", \"rgb(49,130,189)\", \"rgb(49,130,189)\", \"rgb(49,130,189)\", \"rgb(49,130,189)\", \"rgb(49,130,189)\", \"rgb(49,130,189)\", \"rgb(222,45,38)\", \"rgb(49,130,189)\", \"rgb(49,130,189)\", \"rgb(49,130,189)\", \"rgb(222,45,38)\", \"rgb(49,130,189)\", \"rgb(49,130,189)\", \"rgb(222,45,38)\", \"rgb(49,130,189)\", \"rgb(49,130,189)\"]}}], {\"title\": \"Number of audio files for each category\", \"xaxis\": {\"title\": \"Categories\"}, \"yaxis\": {\"title\": \"Count\", \"range\": [1700, 2400]}}, {\"showLink\": true, \"linkText\": \"Export to plot.ly\"})});</script>"
      ]
     },
     "metadata": {},
     "output_type": "display_data"
    }
   ],
   "source": [
    "colors = np.full(len(all_categories), fill_value='rgb(49,130,189)')\n",
    "colors[np.where(np.core.defchararray.equal(all_categories_masked, 'unknown'))] = 'rgb(222,45,38)'\n",
    "py.iplot(dict(data=[go.Bar(x=all_categories,\n",
    "                           y=file_count_per_category,\n",
    "                           marker=dict(color=colors))], \n",
    "              layout=go.Layout(title='Number of audio files for each category',\n",
    "                               xaxis=dict(title='Categories'),\n",
    "                               yaxis=dict(title='Count', range=[1700, 2400]))))"
   ]
  },
  {
   "cell_type": "code",
   "execution_count": 45,
   "metadata": {},
   "outputs": [
    {
     "data": {
      "application/vnd.plotly.v1+json": {
       "data": [
        {
         "marker": {
          "color": [
           "rgb(49,130,189)",
           "rgb(49,130,189)",
           "rgb(49,130,189)",
           "rgb(49,130,189)",
           "rgb(49,130,189)",
           "rgb(49,130,189)",
           "rgb(49,130,189)",
           "rgb(49,130,189)",
           "rgb(49,130,189)",
           "rgb(49,130,189)",
           "rgb(49,130,189)",
           "rgb(49,130,189)",
           "rgb(49,130,189)",
           "rgb(49,130,189)",
           "rgb(49,130,189)",
           "rgb(49,130,189)",
           "rgb(49,130,189)",
           "rgb(49,130,189)",
           "rgb(49,130,189)",
           "rgb(49,130,189)",
           "rgb(222,45,38)"
          ]
         },
         "type": "bar",
         "x": [
          "down",
          "eight",
          "five",
          "four",
          "go",
          "left",
          "nine",
          "no",
          "off",
          "on",
          "one",
          "right",
          "seven",
          "six",
          "stop",
          "three",
          "two",
          "up",
          "yes",
          "zero",
          "unknown"
         ],
         "y": [
          2359,
          2352,
          2357,
          2372,
          2372,
          2353,
          2364,
          2375,
          2357,
          2367,
          2370,
          2367,
          2377,
          2369,
          2380,
          2356,
          2373,
          2375,
          2377,
          2376,
          17373
         ]
        }
       ],
       "layout": {
        "title": "Number of audio files for each category",
        "xaxis": {
         "title": "Categories"
        },
        "yaxis": {
         "range": [
          2000,
          17500
         ],
         "title": "Count"
        }
       }
      },
      "text/html": [
       "<div id=\"0f2c5b6f-a29b-439e-9902-732ab5917fbb\" style=\"height: 525px; width: 100%;\" class=\"plotly-graph-div\"></div><script type=\"text/javascript\">require([\"plotly\"], function(Plotly) { window.PLOTLYENV=window.PLOTLYENV || {};window.PLOTLYENV.BASE_URL=\"https://plot.ly\";Plotly.newPlot(\"0f2c5b6f-a29b-439e-9902-732ab5917fbb\", [{\"type\": \"bar\", \"x\": [\"down\", \"eight\", \"five\", \"four\", \"go\", \"left\", \"nine\", \"no\", \"off\", \"on\", \"one\", \"right\", \"seven\", \"six\", \"stop\", \"three\", \"two\", \"up\", \"yes\", \"zero\", \"unknown\"], \"y\": [2359, 2352, 2357, 2372, 2372, 2353, 2364, 2375, 2357, 2367, 2370, 2367, 2377, 2369, 2380, 2356, 2373, 2375, 2377, 2376, 17373], \"marker\": {\"color\": [\"rgb(49,130,189)\", \"rgb(49,130,189)\", \"rgb(49,130,189)\", \"rgb(49,130,189)\", \"rgb(49,130,189)\", \"rgb(49,130,189)\", \"rgb(49,130,189)\", \"rgb(49,130,189)\", \"rgb(49,130,189)\", \"rgb(49,130,189)\", \"rgb(49,130,189)\", \"rgb(49,130,189)\", \"rgb(49,130,189)\", \"rgb(49,130,189)\", \"rgb(49,130,189)\", \"rgb(49,130,189)\", \"rgb(49,130,189)\", \"rgb(49,130,189)\", \"rgb(49,130,189)\", \"rgb(49,130,189)\", \"rgb(222,45,38)\"]}}], {\"title\": \"Number of audio files for each category\", \"xaxis\": {\"title\": \"Categories\"}, \"yaxis\": {\"title\": \"Count\", \"range\": [2000, 17500]}}, {\"showLink\": true, \"linkText\": \"Export to plot.ly\"})});</script>"
      ],
      "text/vnd.plotly.v1+html": [
       "<div id=\"0f2c5b6f-a29b-439e-9902-732ab5917fbb\" style=\"height: 525px; width: 100%;\" class=\"plotly-graph-div\"></div><script type=\"text/javascript\">require([\"plotly\"], function(Plotly) { window.PLOTLYENV=window.PLOTLYENV || {};window.PLOTLYENV.BASE_URL=\"https://plot.ly\";Plotly.newPlot(\"0f2c5b6f-a29b-439e-9902-732ab5917fbb\", [{\"type\": \"bar\", \"x\": [\"down\", \"eight\", \"five\", \"four\", \"go\", \"left\", \"nine\", \"no\", \"off\", \"on\", \"one\", \"right\", \"seven\", \"six\", \"stop\", \"three\", \"two\", \"up\", \"yes\", \"zero\", \"unknown\"], \"y\": [2359, 2352, 2357, 2372, 2372, 2353, 2364, 2375, 2357, 2367, 2370, 2367, 2377, 2369, 2380, 2356, 2373, 2375, 2377, 2376, 17373], \"marker\": {\"color\": [\"rgb(49,130,189)\", \"rgb(49,130,189)\", \"rgb(49,130,189)\", \"rgb(49,130,189)\", \"rgb(49,130,189)\", \"rgb(49,130,189)\", \"rgb(49,130,189)\", \"rgb(49,130,189)\", \"rgb(49,130,189)\", \"rgb(49,130,189)\", \"rgb(49,130,189)\", \"rgb(49,130,189)\", \"rgb(49,130,189)\", \"rgb(49,130,189)\", \"rgb(49,130,189)\", \"rgb(49,130,189)\", \"rgb(49,130,189)\", \"rgb(49,130,189)\", \"rgb(49,130,189)\", \"rgb(49,130,189)\", \"rgb(222,45,38)\"]}}], {\"title\": \"Number of audio files for each category\", \"xaxis\": {\"title\": \"Categories\"}, \"yaxis\": {\"title\": \"Count\", \"range\": [2000, 17500]}}, {\"showLink\": true, \"linkText\": \"Export to plot.ly\"})});</script>"
      ]
     },
     "metadata": {},
     "output_type": "display_data"
    }
   ],
   "source": [
    "py.iplot(dict(data=[go.Bar(x=list(all_other_categories) + ['unknown'],\n",
    "                           y=list(files_for_other_categories) + [files_for_unknown],\n",
    "                           marker=dict(color=((['rgb(49,130,189)'] * len(all_other_categories)) + ['rgb(222,45,38)'])))], \n",
    "              layout=go.Layout(title='Number of audio files for each category',\n",
    "                               xaxis=dict(title='Categories'),\n",
    "                               yaxis=dict(title='Count', range=[2000, 17500]))))"
   ]
  },
  {
   "cell_type": "code",
   "execution_count": 44,
   "metadata": {},
   "outputs": [
    {
     "data": {
      "application/vnd.plotly.v1+json": {
       "data": [
        {
         "type": "bar",
         "x": [
          "bed",
          "bird",
          "cat",
          "dog",
          "down",
          "eight",
          "five",
          "four",
          "go",
          "happy",
          "house",
          "left",
          "marvin",
          "nine",
          "no",
          "off",
          "on",
          "one",
          "right",
          "seven",
          "sheila",
          "six",
          "stop",
          "three",
          "tree",
          "two",
          "up",
          "wow",
          "yes",
          "zero"
         ],
         "y": [
          26900872,
          27166569,
          27200350,
          27452612,
          37253938,
          37039643,
          37232829,
          37410587,
          37195890,
          27422915,
          27541254,
          37201274,
          27539223,
          37351071,
          37308817,
          37201365,
          37184190,
          37227688,
          37324944,
          37530207,
          27406211,
          37514465,
          37534076,
          37159726,
          27211598,
          37363179,
          37202801,
          27379840,
          37475842,
          37636498
         ]
        }
       ],
       "layout": {
        "title": "Number of audio samples for each category",
        "xaxis": {
         "title": "Categories"
        },
        "yaxis": {
         "range": [
          25000000,
          38000000
         ],
         "title": "Number of samples"
        }
       }
      },
      "text/html": [
       "<div id=\"b429c986-28aa-4f1d-a93b-54bc94009cb5\" style=\"height: 525px; width: 100%;\" class=\"plotly-graph-div\"></div><script type=\"text/javascript\">require([\"plotly\"], function(Plotly) { window.PLOTLYENV=window.PLOTLYENV || {};window.PLOTLYENV.BASE_URL=\"https://plot.ly\";Plotly.newPlot(\"b429c986-28aa-4f1d-a93b-54bc94009cb5\", [{\"type\": \"bar\", \"x\": [\"bed\", \"bird\", \"cat\", \"dog\", \"down\", \"eight\", \"five\", \"four\", \"go\", \"happy\", \"house\", \"left\", \"marvin\", \"nine\", \"no\", \"off\", \"on\", \"one\", \"right\", \"seven\", \"sheila\", \"six\", \"stop\", \"three\", \"tree\", \"two\", \"up\", \"wow\", \"yes\", \"zero\"], \"y\": [26900872, 27166569, 27200350, 27452612, 37253938, 37039643, 37232829, 37410587, 37195890, 27422915, 27541254, 37201274, 27539223, 37351071, 37308817, 37201365, 37184190, 37227688, 37324944, 37530207, 27406211, 37514465, 37534076, 37159726, 27211598, 37363179, 37202801, 27379840, 37475842, 37636498]}], {\"title\": \"Number of audio samples for each category\", \"xaxis\": {\"title\": \"Categories\"}, \"yaxis\": {\"title\": \"Number of samples\", \"range\": [25000000, 38000000]}}, {\"showLink\": true, \"linkText\": \"Export to plot.ly\"})});</script>"
      ],
      "text/vnd.plotly.v1+html": [
       "<div id=\"b429c986-28aa-4f1d-a93b-54bc94009cb5\" style=\"height: 525px; width: 100%;\" class=\"plotly-graph-div\"></div><script type=\"text/javascript\">require([\"plotly\"], function(Plotly) { window.PLOTLYENV=window.PLOTLYENV || {};window.PLOTLYENV.BASE_URL=\"https://plot.ly\";Plotly.newPlot(\"b429c986-28aa-4f1d-a93b-54bc94009cb5\", [{\"type\": \"bar\", \"x\": [\"bed\", \"bird\", \"cat\", \"dog\", \"down\", \"eight\", \"five\", \"four\", \"go\", \"happy\", \"house\", \"left\", \"marvin\", \"nine\", \"no\", \"off\", \"on\", \"one\", \"right\", \"seven\", \"sheila\", \"six\", \"stop\", \"three\", \"tree\", \"two\", \"up\", \"wow\", \"yes\", \"zero\"], \"y\": [26900872, 27166569, 27200350, 27452612, 37253938, 37039643, 37232829, 37410587, 37195890, 27422915, 27541254, 37201274, 27539223, 37351071, 37308817, 37201365, 37184190, 37227688, 37324944, 37530207, 27406211, 37514465, 37534076, 37159726, 27211598, 37363179, 37202801, 27379840, 37475842, 37636498]}], {\"title\": \"Number of audio samples for each category\", \"xaxis\": {\"title\": \"Categories\"}, \"yaxis\": {\"title\": \"Number of samples\", \"range\": [25000000, 38000000]}}, {\"showLink\": true, \"linkText\": \"Export to plot.ly\"})});</script>"
      ]
     },
     "metadata": {},
     "output_type": "display_data"
    }
   ],
   "source": [
    "py.iplot(dict(data=[go.Bar(x=all_categories, y=samples_per_category)], \n",
    "              layout=go.Layout(title='Number of audio samples for each category',\n",
    "                               xaxis=dict(title='Categories'),\n",
    "                               yaxis=dict(title='Number of samples', range=[25000000, 38000000]))))"
   ]
  },
  {
   "cell_type": "code",
   "execution_count": 34,
   "metadata": {},
   "outputs": [
    {
     "data": {
      "application/vnd.plotly.v1+json": {
       "data": [
        {
         "labels": [
          "Audio files with less than 16000 samples",
          "Audio files with 16000 samples"
         ],
         "type": "pie",
         "values": [
          6469,
          58252
         ]
        }
       ],
       "layout": {}
      },
      "text/html": [
       "<div id=\"7a781a1d-a4f2-4c05-8833-d9ffdfc7358f\" style=\"height: 525px; width: 100%;\" class=\"plotly-graph-div\"></div><script type=\"text/javascript\">require([\"plotly\"], function(Plotly) { window.PLOTLYENV=window.PLOTLYENV || {};window.PLOTLYENV.BASE_URL=\"https://plot.ly\";Plotly.newPlot(\"7a781a1d-a4f2-4c05-8833-d9ffdfc7358f\", [{\"type\": \"pie\", \"labels\": [\"Audio files with less than 16000 samples\", \"Audio files with 16000 samples\"], \"values\": [6469, 58252]}], {}, {\"showLink\": true, \"linkText\": \"Export to plot.ly\"})});</script>"
      ],
      "text/vnd.plotly.v1+html": [
       "<div id=\"7a781a1d-a4f2-4c05-8833-d9ffdfc7358f\" style=\"height: 525px; width: 100%;\" class=\"plotly-graph-div\"></div><script type=\"text/javascript\">require([\"plotly\"], function(Plotly) { window.PLOTLYENV=window.PLOTLYENV || {};window.PLOTLYENV.BASE_URL=\"https://plot.ly\";Plotly.newPlot(\"7a781a1d-a4f2-4c05-8833-d9ffdfc7358f\", [{\"type\": \"pie\", \"labels\": [\"Audio files with less than 16000 samples\", \"Audio files with 16000 samples\"], \"values\": [6469, 58252]}], {}, {\"showLink\": true, \"linkText\": \"Export to plot.ly\"})});</script>"
      ]
     },
     "metadata": {},
     "output_type": "display_data"
    }
   ],
   "source": [
    "labels = ['Audio files with less than 16000 samples', 'Audio files with 16000 samples']\n",
    "values = [sample_length_count[:-1].sum(), sample_length_count[-1]]\n",
    "py.iplot([go.Pie(labels=labels, values=values)])"
   ]
  },
  {
   "cell_type": "code",
   "execution_count": 47,
   "metadata": {},
   "outputs": [],
   "source": [
    "mel_spec = lambda x: librosa.power_to_db(librosa.feature.melspectrogram(x,\n",
    "                                                                        sr=16000,\n",
    "                                                                        n_fft=1024,\n",
    "                                                                        hop_length=256,\n",
    "                                                                        fmax=3000),\n",
    "                                         ref=np.max)"
   ]
  },
  {
   "cell_type": "code",
   "execution_count": 56,
   "metadata": {},
   "outputs": [],
   "source": [
    "all_categories_mel = []\n",
    "for category in all_categories:\n",
    "        audio_file = os.listdir(path='./data/audio/' + category)[0]\n",
    "        audio, _ = librosa.core.load('./data/audio/' + category + '/' + audio_file, sr=16000)\n",
    "        spec = mel_spec(audio)\n",
    "        all_categories_mel.append(spec)"
   ]
  }
 ],
 "metadata": {
  "kernelspec": {
   "display_name": "Python 3",
   "language": "python",
   "name": "python3"
  },
  "language_info": {
   "codemirror_mode": {
    "name": "ipython",
    "version": 3
   },
   "file_extension": ".py",
   "mimetype": "text/x-python",
   "name": "python",
   "nbconvert_exporter": "python",
   "pygments_lexer": "ipython3",
   "version": "3.6.5"
  }
 },
 "nbformat": 4,
 "nbformat_minor": 2
}
